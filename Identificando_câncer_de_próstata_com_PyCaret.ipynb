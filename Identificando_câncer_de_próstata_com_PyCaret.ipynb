{
  "nbformat": 4,
  "nbformat_minor": 0,
  "metadata": {
    "colab": {
      "name": "Identificando câncer de próstata com PyCaret.ipynb",
      "provenance": [],
      "collapsed_sections": [],
      "authorship_tag": "ABX9TyPxqtoVWUKTr2Dv5tiv+JpS",
      "include_colab_link": true
    },
    "kernelspec": {
      "name": "python3",
      "display_name": "Python 3"
    },
    "language_info": {
      "name": "python"
    },
    "widgets": {
      "application/vnd.jupyter.widget-state+json": {
        "7aef5ac2d992427cb7ba825d0c00f8ca": {
          "model_module": "@jupyter-widgets/controls",
          "model_name": "IntProgressModel",
          "model_module_version": "1.5.0",
          "state": {
            "_view_name": "ProgressView",
            "style": "IPY_MODEL_c12ae8abac1d432885cb22df5755e617",
            "_dom_classes": [],
            "description": "Processing: ",
            "_model_name": "IntProgressModel",
            "bar_style": "",
            "max": 3,
            "_view_module": "@jupyter-widgets/controls",
            "_model_module_version": "1.5.0",
            "value": 3,
            "_view_count": null,
            "_view_module_version": "1.5.0",
            "orientation": "horizontal",
            "min": 0,
            "description_tooltip": null,
            "_model_module": "@jupyter-widgets/controls",
            "layout": "IPY_MODEL_67dbd0e6f2dd426f93a3c4f75cd0ffde"
          }
        },
        "c12ae8abac1d432885cb22df5755e617": {
          "model_module": "@jupyter-widgets/controls",
          "model_name": "ProgressStyleModel",
          "model_module_version": "1.5.0",
          "state": {
            "_view_name": "StyleView",
            "_model_name": "ProgressStyleModel",
            "description_width": "",
            "_view_module": "@jupyter-widgets/base",
            "_model_module_version": "1.5.0",
            "_view_count": null,
            "_view_module_version": "1.2.0",
            "bar_color": null,
            "_model_module": "@jupyter-widgets/controls"
          }
        },
        "67dbd0e6f2dd426f93a3c4f75cd0ffde": {
          "model_module": "@jupyter-widgets/base",
          "model_name": "LayoutModel",
          "model_module_version": "1.2.0",
          "state": {
            "_view_name": "LayoutView",
            "grid_template_rows": null,
            "right": null,
            "justify_content": null,
            "_view_module": "@jupyter-widgets/base",
            "overflow": null,
            "_model_module_version": "1.2.0",
            "_view_count": null,
            "flex_flow": null,
            "width": null,
            "min_width": null,
            "border": null,
            "align_items": null,
            "bottom": null,
            "_model_module": "@jupyter-widgets/base",
            "top": null,
            "grid_column": null,
            "overflow_y": null,
            "overflow_x": null,
            "grid_auto_flow": null,
            "grid_area": null,
            "grid_template_columns": null,
            "flex": null,
            "_model_name": "LayoutModel",
            "justify_items": null,
            "grid_row": null,
            "max_height": null,
            "align_content": null,
            "visibility": null,
            "align_self": null,
            "height": null,
            "min_height": null,
            "padding": null,
            "grid_auto_rows": null,
            "grid_gap": null,
            "max_width": null,
            "order": null,
            "_view_module_version": "1.2.0",
            "grid_template_areas": null,
            "object_position": null,
            "object_fit": null,
            "grid_auto_columns": null,
            "margin": null,
            "display": null,
            "left": null
          }
        },
        "f0a4806f3d774031ae922d16fecb5e70": {
          "model_module": "@jupyter-widgets/controls",
          "model_name": "IntProgressModel",
          "model_module_version": "1.5.0",
          "state": {
            "_view_name": "ProgressView",
            "style": "IPY_MODEL_fd333444889b461aa9acc710c3367178",
            "_dom_classes": [],
            "description": "Processing: ",
            "_model_name": "IntProgressModel",
            "bar_style": "",
            "max": 69,
            "_view_module": "@jupyter-widgets/controls",
            "_model_module_version": "1.5.0",
            "value": 69,
            "_view_count": null,
            "_view_module_version": "1.5.0",
            "orientation": "horizontal",
            "min": 0,
            "description_tooltip": null,
            "_model_module": "@jupyter-widgets/controls",
            "layout": "IPY_MODEL_2e2541c6f7b844b0b2269b26b718f96a"
          }
        },
        "fd333444889b461aa9acc710c3367178": {
          "model_module": "@jupyter-widgets/controls",
          "model_name": "ProgressStyleModel",
          "model_module_version": "1.5.0",
          "state": {
            "_view_name": "StyleView",
            "_model_name": "ProgressStyleModel",
            "description_width": "",
            "_view_module": "@jupyter-widgets/base",
            "_model_module_version": "1.5.0",
            "_view_count": null,
            "_view_module_version": "1.2.0",
            "bar_color": null,
            "_model_module": "@jupyter-widgets/controls"
          }
        },
        "2e2541c6f7b844b0b2269b26b718f96a": {
          "model_module": "@jupyter-widgets/base",
          "model_name": "LayoutModel",
          "model_module_version": "1.2.0",
          "state": {
            "_view_name": "LayoutView",
            "grid_template_rows": null,
            "right": null,
            "justify_content": null,
            "_view_module": "@jupyter-widgets/base",
            "overflow": null,
            "_model_module_version": "1.2.0",
            "_view_count": null,
            "flex_flow": null,
            "width": null,
            "min_width": null,
            "border": null,
            "align_items": null,
            "bottom": null,
            "_model_module": "@jupyter-widgets/base",
            "top": null,
            "grid_column": null,
            "overflow_y": null,
            "overflow_x": null,
            "grid_auto_flow": null,
            "grid_area": null,
            "grid_template_columns": null,
            "flex": null,
            "_model_name": "LayoutModel",
            "justify_items": null,
            "grid_row": null,
            "max_height": null,
            "align_content": null,
            "visibility": null,
            "align_self": null,
            "height": null,
            "min_height": null,
            "padding": null,
            "grid_auto_rows": null,
            "grid_gap": null,
            "max_width": null,
            "order": null,
            "_view_module_version": "1.2.0",
            "grid_template_areas": null,
            "object_position": null,
            "object_fit": null,
            "grid_auto_columns": null,
            "margin": null,
            "display": null,
            "left": null
          }
        },
        "02804a10206f407caad9fef2110bc430": {
          "model_module": "@jupyter-widgets/controls",
          "model_name": "IntProgressModel",
          "model_module_version": "1.5.0",
          "state": {
            "_view_name": "ProgressView",
            "style": "IPY_MODEL_428fb0d416f24e68b07f6a5d8b125d45",
            "_dom_classes": [],
            "description": "Processing: ",
            "_model_name": "IntProgressModel",
            "bar_style": "",
            "max": 4,
            "_view_module": "@jupyter-widgets/controls",
            "_model_module_version": "1.5.0",
            "value": 4,
            "_view_count": null,
            "_view_module_version": "1.5.0",
            "orientation": "horizontal",
            "min": 0,
            "description_tooltip": null,
            "_model_module": "@jupyter-widgets/controls",
            "layout": "IPY_MODEL_25acd99dabb748c7a2fa3d2472e20008"
          }
        },
        "428fb0d416f24e68b07f6a5d8b125d45": {
          "model_module": "@jupyter-widgets/controls",
          "model_name": "ProgressStyleModel",
          "model_module_version": "1.5.0",
          "state": {
            "_view_name": "StyleView",
            "_model_name": "ProgressStyleModel",
            "description_width": "",
            "_view_module": "@jupyter-widgets/base",
            "_model_module_version": "1.5.0",
            "_view_count": null,
            "_view_module_version": "1.2.0",
            "bar_color": null,
            "_model_module": "@jupyter-widgets/controls"
          }
        },
        "25acd99dabb748c7a2fa3d2472e20008": {
          "model_module": "@jupyter-widgets/base",
          "model_name": "LayoutModel",
          "model_module_version": "1.2.0",
          "state": {
            "_view_name": "LayoutView",
            "grid_template_rows": null,
            "right": null,
            "justify_content": null,
            "_view_module": "@jupyter-widgets/base",
            "overflow": null,
            "_model_module_version": "1.2.0",
            "_view_count": null,
            "flex_flow": null,
            "width": null,
            "min_width": null,
            "border": null,
            "align_items": null,
            "bottom": null,
            "_model_module": "@jupyter-widgets/base",
            "top": null,
            "grid_column": null,
            "overflow_y": null,
            "overflow_x": null,
            "grid_auto_flow": null,
            "grid_area": null,
            "grid_template_columns": null,
            "flex": null,
            "_model_name": "LayoutModel",
            "justify_items": null,
            "grid_row": null,
            "max_height": null,
            "align_content": null,
            "visibility": null,
            "align_self": null,
            "height": null,
            "min_height": null,
            "padding": null,
            "grid_auto_rows": null,
            "grid_gap": null,
            "max_width": null,
            "order": null,
            "_view_module_version": "1.2.0",
            "grid_template_areas": null,
            "object_position": null,
            "object_fit": null,
            "grid_auto_columns": null,
            "margin": null,
            "display": null,
            "left": null
          }
        },
        "77fa73c237b64e60a3073e79805eb430": {
          "model_module": "@jupyter-widgets/controls",
          "model_name": "IntProgressModel",
          "model_module_version": "1.5.0",
          "state": {
            "_view_name": "ProgressView",
            "style": "IPY_MODEL_b71eaab37ade4e4cb47e7f1aca3c00df",
            "_dom_classes": [],
            "description": "Processing: ",
            "_model_name": "IntProgressModel",
            "bar_style": "",
            "max": 7,
            "_view_module": "@jupyter-widgets/controls",
            "_model_module_version": "1.5.0",
            "value": 7,
            "_view_count": null,
            "_view_module_version": "1.5.0",
            "orientation": "horizontal",
            "min": 0,
            "description_tooltip": null,
            "_model_module": "@jupyter-widgets/controls",
            "layout": "IPY_MODEL_b0ef3608dde445c5852df8ef38e32d07"
          }
        },
        "b71eaab37ade4e4cb47e7f1aca3c00df": {
          "model_module": "@jupyter-widgets/controls",
          "model_name": "ProgressStyleModel",
          "model_module_version": "1.5.0",
          "state": {
            "_view_name": "StyleView",
            "_model_name": "ProgressStyleModel",
            "description_width": "",
            "_view_module": "@jupyter-widgets/base",
            "_model_module_version": "1.5.0",
            "_view_count": null,
            "_view_module_version": "1.2.0",
            "bar_color": null,
            "_model_module": "@jupyter-widgets/controls"
          }
        },
        "b0ef3608dde445c5852df8ef38e32d07": {
          "model_module": "@jupyter-widgets/base",
          "model_name": "LayoutModel",
          "model_module_version": "1.2.0",
          "state": {
            "_view_name": "LayoutView",
            "grid_template_rows": null,
            "right": null,
            "justify_content": null,
            "_view_module": "@jupyter-widgets/base",
            "overflow": null,
            "_model_module_version": "1.2.0",
            "_view_count": null,
            "flex_flow": null,
            "width": null,
            "min_width": null,
            "border": null,
            "align_items": null,
            "bottom": null,
            "_model_module": "@jupyter-widgets/base",
            "top": null,
            "grid_column": null,
            "overflow_y": null,
            "overflow_x": null,
            "grid_auto_flow": null,
            "grid_area": null,
            "grid_template_columns": null,
            "flex": null,
            "_model_name": "LayoutModel",
            "justify_items": null,
            "grid_row": null,
            "max_height": null,
            "align_content": null,
            "visibility": null,
            "align_self": null,
            "height": null,
            "min_height": null,
            "padding": null,
            "grid_auto_rows": null,
            "grid_gap": null,
            "max_width": null,
            "order": null,
            "_view_module_version": "1.2.0",
            "grid_template_areas": null,
            "object_position": null,
            "object_fit": null,
            "grid_auto_columns": null,
            "margin": null,
            "display": null,
            "left": null
          }
        },
        "d3adf6873f304f84b35bcd6b4f111827": {
          "model_module": "@jupyter-widgets/controls",
          "model_name": "VBoxModel",
          "model_module_version": "1.5.0",
          "state": {
            "_view_name": "VBoxView",
            "_dom_classes": [
              "widget-interact"
            ],
            "_model_name": "VBoxModel",
            "_view_module": "@jupyter-widgets/controls",
            "_model_module_version": "1.5.0",
            "_view_count": null,
            "_view_module_version": "1.5.0",
            "box_style": "",
            "layout": "IPY_MODEL_8b748a9d91f34b0f850dd79e2663c195",
            "_model_module": "@jupyter-widgets/controls",
            "children": [
              "IPY_MODEL_7a233e4d9a674f4eb3f908f433bf6712",
              "IPY_MODEL_5bf484f7201c400b93dd7c040b7e3baf"
            ]
          }
        },
        "8b748a9d91f34b0f850dd79e2663c195": {
          "model_module": "@jupyter-widgets/base",
          "model_name": "LayoutModel",
          "model_module_version": "1.2.0",
          "state": {
            "_view_name": "LayoutView",
            "grid_template_rows": null,
            "right": null,
            "justify_content": null,
            "_view_module": "@jupyter-widgets/base",
            "overflow": null,
            "_model_module_version": "1.2.0",
            "_view_count": null,
            "flex_flow": null,
            "width": null,
            "min_width": null,
            "border": null,
            "align_items": null,
            "bottom": null,
            "_model_module": "@jupyter-widgets/base",
            "top": null,
            "grid_column": null,
            "overflow_y": null,
            "overflow_x": null,
            "grid_auto_flow": null,
            "grid_area": null,
            "grid_template_columns": null,
            "flex": null,
            "_model_name": "LayoutModel",
            "justify_items": null,
            "grid_row": null,
            "max_height": null,
            "align_content": null,
            "visibility": null,
            "align_self": null,
            "height": null,
            "min_height": null,
            "padding": null,
            "grid_auto_rows": null,
            "grid_gap": null,
            "max_width": null,
            "order": null,
            "_view_module_version": "1.2.0",
            "grid_template_areas": null,
            "object_position": null,
            "object_fit": null,
            "grid_auto_columns": null,
            "margin": null,
            "display": null,
            "left": null
          }
        },
        "7a233e4d9a674f4eb3f908f433bf6712": {
          "model_module": "@jupyter-widgets/controls",
          "model_name": "ToggleButtonsModel",
          "model_module_version": "1.5.0",
          "state": {
            "_options_labels": [
              "Hyperparameters",
              "AUC",
              "Confusion Matrix",
              "Threshold",
              "Precision Recall",
              "Prediction Error",
              "Class Report",
              "Feature Selection",
              "Learning Curve",
              "Manifold Learning",
              "Calibration Curve",
              "Validation Curve",
              "Dimensions",
              "Feature Importance",
              "Feature Importance (All)",
              "Decision Boundary",
              "Lift Chart",
              "Gain Chart",
              "Decision Tree",
              "KS Statistic Plot"
            ],
            "_view_name": "ToggleButtonsView",
            "style": "IPY_MODEL_ac91961dad564fc98b946e232b9676f0",
            "_dom_classes": [],
            "description": "Plot Type:",
            "_model_name": "ToggleButtonsModel",
            "tooltips": [],
            "index": 0,
            "button_style": "",
            "_view_module": "@jupyter-widgets/controls",
            "_model_module_version": "1.5.0",
            "_view_count": null,
            "disabled": false,
            "_view_module_version": "1.5.0",
            "icons": [
              ""
            ],
            "description_tooltip": null,
            "_model_module": "@jupyter-widgets/controls",
            "layout": "IPY_MODEL_ae45a072c9c940a38254f32a186eeb44"
          }
        },
        "5bf484f7201c400b93dd7c040b7e3baf": {
          "model_module": "@jupyter-widgets/output",
          "model_name": "OutputModel",
          "model_module_version": "1.0.0",
          "state": {
            "_view_name": "OutputView",
            "msg_id": "",
            "_dom_classes": [],
            "_model_name": "OutputModel",
            "outputs": [
              {
                "output_type": "display_data",
                "data": {
                  "text/html": "<div>\n<style scoped>\n    .dataframe tbody tr th:only-of-type {\n        vertical-align: middle;\n    }\n\n    .dataframe tbody tr th {\n        vertical-align: top;\n    }\n\n    .dataframe thead th {\n        text-align: right;\n    }\n</style>\n<table border=\"1\" class=\"dataframe\">\n  <thead>\n    <tr style=\"text-align: right;\">\n      <th></th>\n      <th>Parameters</th>\n    </tr>\n  </thead>\n  <tbody>\n    <tr>\n      <th>bootstrap</th>\n      <td>True</td>\n    </tr>\n    <tr>\n      <th>ccp_alpha</th>\n      <td>0.0</td>\n    </tr>\n    <tr>\n      <th>class_weight</th>\n      <td>None</td>\n    </tr>\n    <tr>\n      <th>criterion</th>\n      <td>gini</td>\n    </tr>\n    <tr>\n      <th>max_depth</th>\n      <td>None</td>\n    </tr>\n    <tr>\n      <th>max_features</th>\n      <td>auto</td>\n    </tr>\n    <tr>\n      <th>max_leaf_nodes</th>\n      <td>None</td>\n    </tr>\n    <tr>\n      <th>max_samples</th>\n      <td>None</td>\n    </tr>\n    <tr>\n      <th>min_impurity_decrease</th>\n      <td>0.0</td>\n    </tr>\n    <tr>\n      <th>min_impurity_split</th>\n      <td>None</td>\n    </tr>\n    <tr>\n      <th>min_samples_leaf</th>\n      <td>1</td>\n    </tr>\n    <tr>\n      <th>min_samples_split</th>\n      <td>2</td>\n    </tr>\n    <tr>\n      <th>min_weight_fraction_leaf</th>\n      <td>0.0</td>\n    </tr>\n    <tr>\n      <th>n_estimators</th>\n      <td>100</td>\n    </tr>\n    <tr>\n      <th>n_jobs</th>\n      <td>-1</td>\n    </tr>\n    <tr>\n      <th>oob_score</th>\n      <td>False</td>\n    </tr>\n    <tr>\n      <th>random_state</th>\n      <td>1016</td>\n    </tr>\n    <tr>\n      <th>verbose</th>\n      <td>0</td>\n    </tr>\n    <tr>\n      <th>warm_start</th>\n      <td>False</td>\n    </tr>\n  </tbody>\n</table>\n</div>",
                  "text/plain": "                         Parameters\nbootstrap                      True\nccp_alpha                       0.0\nclass_weight                   None\ncriterion                      gini\nmax_depth                      None\nmax_features                   auto\nmax_leaf_nodes                 None\nmax_samples                    None\nmin_impurity_decrease           0.0\nmin_impurity_split             None\nmin_samples_leaf                  1\nmin_samples_split                 2\nmin_weight_fraction_leaf        0.0\nn_estimators                    100\nn_jobs                           -1\noob_score                     False\nrandom_state                   1016\nverbose                           0\nwarm_start                    False"
                },
                "metadata": {}
              }
            ],
            "_view_module": "@jupyter-widgets/output",
            "_model_module_version": "1.0.0",
            "_view_count": null,
            "_view_module_version": "1.0.0",
            "layout": "IPY_MODEL_5b70e4171e6a4476b938773f12009496",
            "_model_module": "@jupyter-widgets/output"
          }
        },
        "ac91961dad564fc98b946e232b9676f0": {
          "model_module": "@jupyter-widgets/controls",
          "model_name": "ToggleButtonsStyleModel",
          "model_module_version": "1.5.0",
          "state": {
            "_view_name": "StyleView",
            "button_width": "",
            "_model_name": "ToggleButtonsStyleModel",
            "description_width": "",
            "_view_module": "@jupyter-widgets/base",
            "_model_module_version": "1.5.0",
            "_view_count": null,
            "font_weight": "",
            "_view_module_version": "1.2.0",
            "_model_module": "@jupyter-widgets/controls"
          }
        },
        "ae45a072c9c940a38254f32a186eeb44": {
          "model_module": "@jupyter-widgets/base",
          "model_name": "LayoutModel",
          "model_module_version": "1.2.0",
          "state": {
            "_view_name": "LayoutView",
            "grid_template_rows": null,
            "right": null,
            "justify_content": null,
            "_view_module": "@jupyter-widgets/base",
            "overflow": null,
            "_model_module_version": "1.2.0",
            "_view_count": null,
            "flex_flow": null,
            "width": null,
            "min_width": null,
            "border": null,
            "align_items": null,
            "bottom": null,
            "_model_module": "@jupyter-widgets/base",
            "top": null,
            "grid_column": null,
            "overflow_y": null,
            "overflow_x": null,
            "grid_auto_flow": null,
            "grid_area": null,
            "grid_template_columns": null,
            "flex": null,
            "_model_name": "LayoutModel",
            "justify_items": null,
            "grid_row": null,
            "max_height": null,
            "align_content": null,
            "visibility": null,
            "align_self": null,
            "height": null,
            "min_height": null,
            "padding": null,
            "grid_auto_rows": null,
            "grid_gap": null,
            "max_width": null,
            "order": null,
            "_view_module_version": "1.2.0",
            "grid_template_areas": null,
            "object_position": null,
            "object_fit": null,
            "grid_auto_columns": null,
            "margin": null,
            "display": null,
            "left": null
          }
        },
        "b117f52fcc5b4d6fa3758def9da9a9f4": {
          "model_module": "@jupyter-widgets/controls",
          "model_name": "IntProgressModel",
          "model_module_version": "1.5.0",
          "state": {
            "_view_name": "ProgressView",
            "style": "IPY_MODEL_9c4506f6903a42c69a54334936459e65",
            "_dom_classes": [],
            "description": "Processing: ",
            "_model_name": "IntProgressModel",
            "bar_style": "",
            "max": 5,
            "_view_module": "@jupyter-widgets/controls",
            "_model_module_version": "1.5.0",
            "value": 3,
            "_view_count": null,
            "_view_module_version": "1.5.0",
            "orientation": "horizontal",
            "min": 0,
            "description_tooltip": null,
            "_model_module": "@jupyter-widgets/controls",
            "layout": "IPY_MODEL_a908f987f5654db8acb6e1ce3f819395"
          }
        },
        "5b70e4171e6a4476b938773f12009496": {
          "model_module": "@jupyter-widgets/base",
          "model_name": "LayoutModel",
          "model_module_version": "1.2.0",
          "state": {
            "_view_name": "LayoutView",
            "grid_template_rows": null,
            "right": null,
            "justify_content": null,
            "_view_module": "@jupyter-widgets/base",
            "overflow": null,
            "_model_module_version": "1.2.0",
            "_view_count": null,
            "flex_flow": null,
            "width": null,
            "min_width": null,
            "border": null,
            "align_items": null,
            "bottom": null,
            "_model_module": "@jupyter-widgets/base",
            "top": null,
            "grid_column": null,
            "overflow_y": null,
            "overflow_x": null,
            "grid_auto_flow": null,
            "grid_area": null,
            "grid_template_columns": null,
            "flex": null,
            "_model_name": "LayoutModel",
            "justify_items": null,
            "grid_row": null,
            "max_height": null,
            "align_content": null,
            "visibility": null,
            "align_self": null,
            "height": null,
            "min_height": null,
            "padding": null,
            "grid_auto_rows": null,
            "grid_gap": null,
            "max_width": null,
            "order": null,
            "_view_module_version": "1.2.0",
            "grid_template_areas": null,
            "object_position": null,
            "object_fit": null,
            "grid_auto_columns": null,
            "margin": null,
            "display": null,
            "left": null
          }
        },
        "9c4506f6903a42c69a54334936459e65": {
          "model_module": "@jupyter-widgets/controls",
          "model_name": "ProgressStyleModel",
          "model_module_version": "1.5.0",
          "state": {
            "_view_name": "StyleView",
            "_model_name": "ProgressStyleModel",
            "description_width": "",
            "_view_module": "@jupyter-widgets/base",
            "_model_module_version": "1.5.0",
            "_view_count": null,
            "_view_module_version": "1.2.0",
            "bar_color": null,
            "_model_module": "@jupyter-widgets/controls"
          }
        },
        "a908f987f5654db8acb6e1ce3f819395": {
          "model_module": "@jupyter-widgets/base",
          "model_name": "LayoutModel",
          "model_module_version": "1.2.0",
          "state": {
            "_view_name": "LayoutView",
            "grid_template_rows": null,
            "right": null,
            "justify_content": null,
            "_view_module": "@jupyter-widgets/base",
            "overflow": null,
            "_model_module_version": "1.2.0",
            "_view_count": null,
            "flex_flow": null,
            "width": null,
            "min_width": null,
            "border": null,
            "align_items": null,
            "bottom": null,
            "_model_module": "@jupyter-widgets/base",
            "top": null,
            "grid_column": null,
            "overflow_y": null,
            "overflow_x": null,
            "grid_auto_flow": null,
            "grid_area": null,
            "grid_template_columns": null,
            "flex": null,
            "_model_name": "LayoutModel",
            "justify_items": null,
            "grid_row": null,
            "max_height": null,
            "align_content": null,
            "visibility": null,
            "align_self": null,
            "height": null,
            "min_height": null,
            "padding": null,
            "grid_auto_rows": null,
            "grid_gap": null,
            "max_width": null,
            "order": null,
            "_view_module_version": "1.2.0",
            "grid_template_areas": null,
            "object_position": null,
            "object_fit": null,
            "grid_auto_columns": null,
            "margin": null,
            "display": null,
            "left": null
          }
        },
        "4a60bc0dea074934bd579277c16d2520": {
          "model_module": "@jupyter-widgets/controls",
          "model_name": "IntProgressModel",
          "model_module_version": "1.5.0",
          "state": {
            "_view_name": "ProgressView",
            "style": "IPY_MODEL_f7fd0a4fda8047c3a49fd1701697dc14",
            "_dom_classes": [],
            "description": "Processing: ",
            "_model_name": "IntProgressModel",
            "bar_style": "",
            "max": 5,
            "_view_module": "@jupyter-widgets/controls",
            "_model_module_version": "1.5.0",
            "value": 5,
            "_view_count": null,
            "_view_module_version": "1.5.0",
            "orientation": "horizontal",
            "min": 0,
            "description_tooltip": null,
            "_model_module": "@jupyter-widgets/controls",
            "layout": "IPY_MODEL_e7a6acc8ad884d2b937ffe48cfdd55d3"
          }
        },
        "f7fd0a4fda8047c3a49fd1701697dc14": {
          "model_module": "@jupyter-widgets/controls",
          "model_name": "ProgressStyleModel",
          "model_module_version": "1.5.0",
          "state": {
            "_view_name": "StyleView",
            "_model_name": "ProgressStyleModel",
            "description_width": "",
            "_view_module": "@jupyter-widgets/base",
            "_model_module_version": "1.5.0",
            "_view_count": null,
            "_view_module_version": "1.2.0",
            "bar_color": null,
            "_model_module": "@jupyter-widgets/controls"
          }
        },
        "e7a6acc8ad884d2b937ffe48cfdd55d3": {
          "model_module": "@jupyter-widgets/base",
          "model_name": "LayoutModel",
          "model_module_version": "1.2.0",
          "state": {
            "_view_name": "LayoutView",
            "grid_template_rows": null,
            "right": null,
            "justify_content": null,
            "_view_module": "@jupyter-widgets/base",
            "overflow": null,
            "_model_module_version": "1.2.0",
            "_view_count": null,
            "flex_flow": null,
            "width": null,
            "min_width": null,
            "border": null,
            "align_items": null,
            "bottom": null,
            "_model_module": "@jupyter-widgets/base",
            "top": null,
            "grid_column": null,
            "overflow_y": null,
            "overflow_x": null,
            "grid_auto_flow": null,
            "grid_area": null,
            "grid_template_columns": null,
            "flex": null,
            "_model_name": "LayoutModel",
            "justify_items": null,
            "grid_row": null,
            "max_height": null,
            "align_content": null,
            "visibility": null,
            "align_self": null,
            "height": null,
            "min_height": null,
            "padding": null,
            "grid_auto_rows": null,
            "grid_gap": null,
            "max_width": null,
            "order": null,
            "_view_module_version": "1.2.0",
            "grid_template_areas": null,
            "object_position": null,
            "object_fit": null,
            "grid_auto_columns": null,
            "margin": null,
            "display": null,
            "left": null
          }
        },
        "8064bf12f2bc4d66b1909327c300071f": {
          "model_module": "@jupyter-widgets/controls",
          "model_name": "IntProgressModel",
          "model_module_version": "1.5.0",
          "state": {
            "_view_name": "ProgressView",
            "style": "IPY_MODEL_5eee0bb9974846e9bcda96ed55915816",
            "_dom_classes": [],
            "description": "Processing: ",
            "_model_name": "IntProgressModel",
            "bar_style": "",
            "max": 5,
            "_view_module": "@jupyter-widgets/controls",
            "_model_module_version": "1.5.0",
            "value": 5,
            "_view_count": null,
            "_view_module_version": "1.5.0",
            "orientation": "horizontal",
            "min": 0,
            "description_tooltip": null,
            "_model_module": "@jupyter-widgets/controls",
            "layout": "IPY_MODEL_048b3c5e249540eea6d05df3cebbce85"
          }
        },
        "5eee0bb9974846e9bcda96ed55915816": {
          "model_module": "@jupyter-widgets/controls",
          "model_name": "ProgressStyleModel",
          "model_module_version": "1.5.0",
          "state": {
            "_view_name": "StyleView",
            "_model_name": "ProgressStyleModel",
            "description_width": "",
            "_view_module": "@jupyter-widgets/base",
            "_model_module_version": "1.5.0",
            "_view_count": null,
            "_view_module_version": "1.2.0",
            "bar_color": null,
            "_model_module": "@jupyter-widgets/controls"
          }
        },
        "048b3c5e249540eea6d05df3cebbce85": {
          "model_module": "@jupyter-widgets/base",
          "model_name": "LayoutModel",
          "model_module_version": "1.2.0",
          "state": {
            "_view_name": "LayoutView",
            "grid_template_rows": null,
            "right": null,
            "justify_content": null,
            "_view_module": "@jupyter-widgets/base",
            "overflow": null,
            "_model_module_version": "1.2.0",
            "_view_count": null,
            "flex_flow": null,
            "width": null,
            "min_width": null,
            "border": null,
            "align_items": null,
            "bottom": null,
            "_model_module": "@jupyter-widgets/base",
            "top": null,
            "grid_column": null,
            "overflow_y": null,
            "overflow_x": null,
            "grid_auto_flow": null,
            "grid_area": null,
            "grid_template_columns": null,
            "flex": null,
            "_model_name": "LayoutModel",
            "justify_items": null,
            "grid_row": null,
            "max_height": null,
            "align_content": null,
            "visibility": null,
            "align_self": null,
            "height": null,
            "min_height": null,
            "padding": null,
            "grid_auto_rows": null,
            "grid_gap": null,
            "max_width": null,
            "order": null,
            "_view_module_version": "1.2.0",
            "grid_template_areas": null,
            "object_position": null,
            "object_fit": null,
            "grid_auto_columns": null,
            "margin": null,
            "display": null,
            "left": null
          }
        },
        "1741a8e5535843c2883615e7a2bd4574": {
          "model_module": "@jupyter-widgets/controls",
          "model_name": "IntProgressModel",
          "model_module_version": "1.5.0",
          "state": {
            "_view_name": "ProgressView",
            "style": "IPY_MODEL_9fb708bd6ee34c20b6e8e8f2083a8251",
            "_dom_classes": [],
            "description": "Processing: ",
            "_model_name": "IntProgressModel",
            "bar_style": "",
            "max": 5,
            "_view_module": "@jupyter-widgets/controls",
            "_model_module_version": "1.5.0",
            "value": 5,
            "_view_count": null,
            "_view_module_version": "1.5.0",
            "orientation": "horizontal",
            "min": 0,
            "description_tooltip": null,
            "_model_module": "@jupyter-widgets/controls",
            "layout": "IPY_MODEL_2071dd2aeddf44bab3cdf28705a60a9a"
          }
        },
        "9fb708bd6ee34c20b6e8e8f2083a8251": {
          "model_module": "@jupyter-widgets/controls",
          "model_name": "ProgressStyleModel",
          "model_module_version": "1.5.0",
          "state": {
            "_view_name": "StyleView",
            "_model_name": "ProgressStyleModel",
            "description_width": "",
            "_view_module": "@jupyter-widgets/base",
            "_model_module_version": "1.5.0",
            "_view_count": null,
            "_view_module_version": "1.2.0",
            "bar_color": null,
            "_model_module": "@jupyter-widgets/controls"
          }
        },
        "2071dd2aeddf44bab3cdf28705a60a9a": {
          "model_module": "@jupyter-widgets/base",
          "model_name": "LayoutModel",
          "model_module_version": "1.2.0",
          "state": {
            "_view_name": "LayoutView",
            "grid_template_rows": null,
            "right": null,
            "justify_content": null,
            "_view_module": "@jupyter-widgets/base",
            "overflow": null,
            "_model_module_version": "1.2.0",
            "_view_count": null,
            "flex_flow": null,
            "width": null,
            "min_width": null,
            "border": null,
            "align_items": null,
            "bottom": null,
            "_model_module": "@jupyter-widgets/base",
            "top": null,
            "grid_column": null,
            "overflow_y": null,
            "overflow_x": null,
            "grid_auto_flow": null,
            "grid_area": null,
            "grid_template_columns": null,
            "flex": null,
            "_model_name": "LayoutModel",
            "justify_items": null,
            "grid_row": null,
            "max_height": null,
            "align_content": null,
            "visibility": null,
            "align_self": null,
            "height": null,
            "min_height": null,
            "padding": null,
            "grid_auto_rows": null,
            "grid_gap": null,
            "max_width": null,
            "order": null,
            "_view_module_version": "1.2.0",
            "grid_template_areas": null,
            "object_position": null,
            "object_fit": null,
            "grid_auto_columns": null,
            "margin": null,
            "display": null,
            "left": null
          }
        },
        "1d7e4aef7e3c46bca56ac32c79ed6294": {
          "model_module": "@jupyter-widgets/controls",
          "model_name": "IntProgressModel",
          "model_module_version": "1.5.0",
          "state": {
            "_view_name": "ProgressView",
            "style": "IPY_MODEL_2088ad286bd744efb4951583d3864e5b",
            "_dom_classes": [],
            "description": "Processing: ",
            "_model_name": "IntProgressModel",
            "bar_style": "",
            "max": 5,
            "_view_module": "@jupyter-widgets/controls",
            "_model_module_version": "1.5.0",
            "value": 5,
            "_view_count": null,
            "_view_module_version": "1.5.0",
            "orientation": "horizontal",
            "min": 0,
            "description_tooltip": null,
            "_model_module": "@jupyter-widgets/controls",
            "layout": "IPY_MODEL_d787144e52e84efcaacb1e9d79867e76"
          }
        },
        "2088ad286bd744efb4951583d3864e5b": {
          "model_module": "@jupyter-widgets/controls",
          "model_name": "ProgressStyleModel",
          "model_module_version": "1.5.0",
          "state": {
            "_view_name": "StyleView",
            "_model_name": "ProgressStyleModel",
            "description_width": "",
            "_view_module": "@jupyter-widgets/base",
            "_model_module_version": "1.5.0",
            "_view_count": null,
            "_view_module_version": "1.2.0",
            "bar_color": null,
            "_model_module": "@jupyter-widgets/controls"
          }
        },
        "d787144e52e84efcaacb1e9d79867e76": {
          "model_module": "@jupyter-widgets/base",
          "model_name": "LayoutModel",
          "model_module_version": "1.2.0",
          "state": {
            "_view_name": "LayoutView",
            "grid_template_rows": null,
            "right": null,
            "justify_content": null,
            "_view_module": "@jupyter-widgets/base",
            "overflow": null,
            "_model_module_version": "1.2.0",
            "_view_count": null,
            "flex_flow": null,
            "width": null,
            "min_width": null,
            "border": null,
            "align_items": null,
            "bottom": null,
            "_model_module": "@jupyter-widgets/base",
            "top": null,
            "grid_column": null,
            "overflow_y": null,
            "overflow_x": null,
            "grid_auto_flow": null,
            "grid_area": null,
            "grid_template_columns": null,
            "flex": null,
            "_model_name": "LayoutModel",
            "justify_items": null,
            "grid_row": null,
            "max_height": null,
            "align_content": null,
            "visibility": null,
            "align_self": null,
            "height": null,
            "min_height": null,
            "padding": null,
            "grid_auto_rows": null,
            "grid_gap": null,
            "max_width": null,
            "order": null,
            "_view_module_version": "1.2.0",
            "grid_template_areas": null,
            "object_position": null,
            "object_fit": null,
            "grid_auto_columns": null,
            "margin": null,
            "display": null,
            "left": null
          }
        },
        "61670fcd9d784b749503e85bfd23f32f": {
          "model_module": "@jupyter-widgets/controls",
          "model_name": "IntProgressModel",
          "model_module_version": "1.5.0",
          "state": {
            "_view_name": "ProgressView",
            "style": "IPY_MODEL_143dad2d5d894013a53ccb788741b58c",
            "_dom_classes": [],
            "description": "Processing: ",
            "_model_name": "IntProgressModel",
            "bar_style": "",
            "max": 5,
            "_view_module": "@jupyter-widgets/controls",
            "_model_module_version": "1.5.0",
            "value": 5,
            "_view_count": null,
            "_view_module_version": "1.5.0",
            "orientation": "horizontal",
            "min": 0,
            "description_tooltip": null,
            "_model_module": "@jupyter-widgets/controls",
            "layout": "IPY_MODEL_7fb69684e40a4972b1f604f741a51619"
          }
        },
        "143dad2d5d894013a53ccb788741b58c": {
          "model_module": "@jupyter-widgets/controls",
          "model_name": "ProgressStyleModel",
          "model_module_version": "1.5.0",
          "state": {
            "_view_name": "StyleView",
            "_model_name": "ProgressStyleModel",
            "description_width": "",
            "_view_module": "@jupyter-widgets/base",
            "_model_module_version": "1.5.0",
            "_view_count": null,
            "_view_module_version": "1.2.0",
            "bar_color": null,
            "_model_module": "@jupyter-widgets/controls"
          }
        },
        "7fb69684e40a4972b1f604f741a51619": {
          "model_module": "@jupyter-widgets/base",
          "model_name": "LayoutModel",
          "model_module_version": "1.2.0",
          "state": {
            "_view_name": "LayoutView",
            "grid_template_rows": null,
            "right": null,
            "justify_content": null,
            "_view_module": "@jupyter-widgets/base",
            "overflow": null,
            "_model_module_version": "1.2.0",
            "_view_count": null,
            "flex_flow": null,
            "width": null,
            "min_width": null,
            "border": null,
            "align_items": null,
            "bottom": null,
            "_model_module": "@jupyter-widgets/base",
            "top": null,
            "grid_column": null,
            "overflow_y": null,
            "overflow_x": null,
            "grid_auto_flow": null,
            "grid_area": null,
            "grid_template_columns": null,
            "flex": null,
            "_model_name": "LayoutModel",
            "justify_items": null,
            "grid_row": null,
            "max_height": null,
            "align_content": null,
            "visibility": null,
            "align_self": null,
            "height": null,
            "min_height": null,
            "padding": null,
            "grid_auto_rows": null,
            "grid_gap": null,
            "max_width": null,
            "order": null,
            "_view_module_version": "1.2.0",
            "grid_template_areas": null,
            "object_position": null,
            "object_fit": null,
            "grid_auto_columns": null,
            "margin": null,
            "display": null,
            "left": null
          }
        }
      }
    }
  },
  "cells": [
    {
      "cell_type": "markdown",
      "metadata": {
        "id": "view-in-github",
        "colab_type": "text"
      },
      "source": [
        "<a href=\"https://colab.research.google.com/github/FGalvao77/Identificando-cancer-de-prostata-com-PyCaret/blob/main/Identificando_c%C3%A2ncer_de_pr%C3%B3stata_com_PyCaret.ipynb\" target=\"_parent\"><img src=\"https://colab.research.google.com/assets/colab-badge.svg\" alt=\"Open In Colab\"/></a>"
      ]
    },
    {
      "cell_type": "markdown",
      "metadata": {
        "id": "M31jQatKj66U"
      },
      "source": [
        "# **Identificando _câncer de próstata_ com `PyCaret`**\n",
        "\n",
        "---\n",
        "\n"
      ]
    },
    {
      "cell_type": "markdown",
      "metadata": {
        "id": "GT0ewCAkz-Ya"
      },
      "source": [
        "## **1. Introdução**"
      ]
    },
    {
      "cell_type": "markdown",
      "metadata": {
        "id": "My4VtOzi1AC2"
      },
      "source": [
        "![image.png](data:image/png;base64,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)"
      ]
    },
    {
      "cell_type": "markdown",
      "metadata": {
        "id": "QblYmH4J07AN"
      },
      "source": [
        "**Official Page:** https://pycaret.org/"
      ]
    },
    {
      "cell_type": "markdown",
      "metadata": {
        "id": "BzEfi8p40DMF"
      },
      "source": [
        "**O que é o `PyCaret`?**"
      ]
    },
    {
      "cell_type": "markdown",
      "metadata": {
        "id": "l8iQWqby0IiZ"
      },
      "source": [
        "_`PyCaret` é uma biblioteca de aprendizado de máquina de código aberto e baixo código (**low-code**) em Python que permite ir desde a preparação de seus dados até a implantação de seu modelo em minutos, na escolha do ambiente de notebook._\n",
        "\n",
        "Essa definição se encontra no próprio site da biblioteca - é uma tradução bem literal, vou tentar deixar mais claro a definição!\n",
        "\n",
        "O principal propósito da biblioteca é otimizar as necessidades do profissional e trazer mais \"produtividade\" e entrega de análises/projetos de ciência de dados, aprendizado de máquinas e etc.\n",
        "\n",
        "A biblioteca _\"encapsula\"_ ou melhor possui um `pipeline` de vários modelos e roda-os simultaneamente e por fim, **ranqueia** os modelos conforme um parâmetro definido de avaliação ou não pelo usuário."
      ]
    },
    {
      "cell_type": "markdown",
      "metadata": {
        "id": "1yvumsQH0PCA"
      },
      "source": [
        "## **2. Instalando a biblioteca**"
      ]
    },
    {
      "cell_type": "code",
      "metadata": {
        "colab": {
          "base_uri": "https://localhost:8080/"
        },
        "id": "1MVHTXOojlIm",
        "outputId": "2d903222-9b20-42f5-b249-4215ebc50cbb"
      },
      "source": [
        "# instalando a biblioteca \"pycaret\"\n",
        "!pip install pycaret"
      ],
      "execution_count": 1,
      "outputs": [
        {
          "output_type": "stream",
          "name": "stdout",
          "text": [
            "Requirement already satisfied: pycaret in /usr/local/lib/python3.7/dist-packages (2.3.4)\n",
            "Requirement already satisfied: lightgbm>=2.3.1 in /usr/local/lib/python3.7/dist-packages (from pycaret) (3.3.1)\n",
            "Requirement already satisfied: mlflow in /usr/local/lib/python3.7/dist-packages (from pycaret) (1.21.0)\n",
            "Requirement already satisfied: gensim<4.0.0 in /usr/local/lib/python3.7/dist-packages (from pycaret) (3.6.0)\n",
            "Requirement already satisfied: numpy==1.19.5 in /usr/local/lib/python3.7/dist-packages (from pycaret) (1.19.5)\n",
            "Requirement already satisfied: spacy<2.4.0 in /usr/local/lib/python3.7/dist-packages (from pycaret) (2.2.4)\n",
            "Requirement already satisfied: wordcloud in /usr/local/lib/python3.7/dist-packages (from pycaret) (1.5.0)\n",
            "Requirement already satisfied: Boruta in /usr/local/lib/python3.7/dist-packages (from pycaret) (0.3)\n",
            "Requirement already satisfied: scipy<=1.5.4 in /usr/local/lib/python3.7/dist-packages (from pycaret) (1.5.4)\n",
            "Requirement already satisfied: nltk in /usr/local/lib/python3.7/dist-packages (from pycaret) (3.2.5)\n",
            "Requirement already satisfied: imbalanced-learn==0.7.0 in /usr/local/lib/python3.7/dist-packages (from pycaret) (0.7.0)\n",
            "Requirement already satisfied: pyLDAvis in /usr/local/lib/python3.7/dist-packages (from pycaret) (3.2.2)\n",
            "Requirement already satisfied: scikit-learn==0.23.2 in /usr/local/lib/python3.7/dist-packages (from pycaret) (0.23.2)\n",
            "Requirement already satisfied: joblib in /usr/local/lib/python3.7/dist-packages (from pycaret) (1.0.1)\n",
            "Requirement already satisfied: pyod in /usr/local/lib/python3.7/dist-packages (from pycaret) (0.9.5)\n",
            "Requirement already satisfied: pandas in /usr/local/lib/python3.7/dist-packages (from pycaret) (1.1.5)\n",
            "Requirement already satisfied: seaborn in /usr/local/lib/python3.7/dist-packages (from pycaret) (0.11.2)\n",
            "Requirement already satisfied: IPython in /usr/local/lib/python3.7/dist-packages (from pycaret) (5.5.0)\n",
            "Requirement already satisfied: pandas-profiling>=2.8.0 in /usr/local/lib/python3.7/dist-packages (from pycaret) (3.1.0)\n",
            "Requirement already satisfied: plotly>=4.4.1 in /usr/local/lib/python3.7/dist-packages (from pycaret) (4.4.1)\n",
            "Requirement already satisfied: matplotlib in /usr/local/lib/python3.7/dist-packages (from pycaret) (3.2.2)\n",
            "Requirement already satisfied: yellowbrick>=1.0.1 in /usr/local/lib/python3.7/dist-packages (from pycaret) (1.3.post1)\n",
            "Requirement already satisfied: ipywidgets in /usr/local/lib/python3.7/dist-packages (from pycaret) (7.6.5)\n",
            "Requirement already satisfied: textblob in /usr/local/lib/python3.7/dist-packages (from pycaret) (0.15.3)\n",
            "Requirement already satisfied: scikit-plot in /usr/local/lib/python3.7/dist-packages (from pycaret) (0.3.7)\n",
            "Requirement already satisfied: umap-learn in /usr/local/lib/python3.7/dist-packages (from pycaret) (0.5.2)\n",
            "Requirement already satisfied: numba<0.54 in /usr/local/lib/python3.7/dist-packages (from pycaret) (0.51.2)\n",
            "Requirement already satisfied: cufflinks>=0.17.0 in /usr/local/lib/python3.7/dist-packages (from pycaret) (0.17.3)\n",
            "Requirement already satisfied: kmodes>=0.10.1 in /usr/local/lib/python3.7/dist-packages (from pycaret) (0.11.1)\n",
            "Requirement already satisfied: mlxtend>=0.17.0 in /usr/local/lib/python3.7/dist-packages (from pycaret) (0.19.0)\n",
            "Requirement already satisfied: threadpoolctl>=2.0.0 in /usr/local/lib/python3.7/dist-packages (from scikit-learn==0.23.2->pycaret) (3.0.0)\n",
            "Requirement already satisfied: colorlover>=0.2.1 in /usr/local/lib/python3.7/dist-packages (from cufflinks>=0.17.0->pycaret) (0.3.0)\n",
            "Requirement already satisfied: setuptools>=34.4.1 in /usr/local/lib/python3.7/dist-packages (from cufflinks>=0.17.0->pycaret) (57.4.0)\n",
            "Requirement already satisfied: six>=1.9.0 in /usr/local/lib/python3.7/dist-packages (from cufflinks>=0.17.0->pycaret) (1.15.0)\n",
            "Requirement already satisfied: smart-open>=1.2.1 in /usr/local/lib/python3.7/dist-packages (from gensim<4.0.0->pycaret) (5.2.1)\n",
            "Requirement already satisfied: decorator in /usr/local/lib/python3.7/dist-packages (from IPython->pycaret) (4.4.2)\n",
            "Requirement already satisfied: pygments in /usr/local/lib/python3.7/dist-packages (from IPython->pycaret) (2.6.1)\n",
            "Requirement already satisfied: pickleshare in /usr/local/lib/python3.7/dist-packages (from IPython->pycaret) (0.7.5)\n",
            "Requirement already satisfied: prompt-toolkit<2.0.0,>=1.0.4 in /usr/local/lib/python3.7/dist-packages (from IPython->pycaret) (1.0.18)\n",
            "Requirement already satisfied: simplegeneric>0.8 in /usr/local/lib/python3.7/dist-packages (from IPython->pycaret) (0.8.1)\n",
            "Requirement already satisfied: pexpect in /usr/local/lib/python3.7/dist-packages (from IPython->pycaret) (4.8.0)\n",
            "Requirement already satisfied: traitlets>=4.2 in /usr/local/lib/python3.7/dist-packages (from IPython->pycaret) (5.1.0)\n",
            "Requirement already satisfied: widgetsnbextension~=3.5.0 in /usr/local/lib/python3.7/dist-packages (from ipywidgets->pycaret) (3.5.1)\n",
            "Requirement already satisfied: nbformat>=4.2.0 in /usr/local/lib/python3.7/dist-packages (from ipywidgets->pycaret) (5.1.3)\n",
            "Requirement already satisfied: ipykernel>=4.5.1 in /usr/local/lib/python3.7/dist-packages (from ipywidgets->pycaret) (4.10.1)\n",
            "Requirement already satisfied: jupyterlab-widgets>=1.0.0 in /usr/local/lib/python3.7/dist-packages (from ipywidgets->pycaret) (1.0.2)\n",
            "Requirement already satisfied: ipython-genutils~=0.2.0 in /usr/local/lib/python3.7/dist-packages (from ipywidgets->pycaret) (0.2.0)\n",
            "Requirement already satisfied: tornado>=4.0 in /usr/local/lib/python3.7/dist-packages (from ipykernel>=4.5.1->ipywidgets->pycaret) (5.1.1)\n",
            "Requirement already satisfied: jupyter-client in /usr/local/lib/python3.7/dist-packages (from ipykernel>=4.5.1->ipywidgets->pycaret) (5.3.5)\n",
            "Requirement already satisfied: wheel in /usr/local/lib/python3.7/dist-packages (from lightgbm>=2.3.1->pycaret) (0.37.0)\n",
            "Requirement already satisfied: cycler>=0.10 in /usr/local/lib/python3.7/dist-packages (from matplotlib->pycaret) (0.10.0)\n",
            "Requirement already satisfied: python-dateutil>=2.1 in /usr/local/lib/python3.7/dist-packages (from matplotlib->pycaret) (2.8.2)\n",
            "Requirement already satisfied: kiwisolver>=1.0.1 in /usr/local/lib/python3.7/dist-packages (from matplotlib->pycaret) (1.3.2)\n",
            "Requirement already satisfied: pyparsing!=2.0.4,!=2.1.2,!=2.1.6,>=2.0.1 in /usr/local/lib/python3.7/dist-packages (from matplotlib->pycaret) (2.4.7)\n",
            "Requirement already satisfied: jupyter-core in /usr/local/lib/python3.7/dist-packages (from nbformat>=4.2.0->ipywidgets->pycaret) (4.8.1)\n",
            "Requirement already satisfied: jsonschema!=2.5.0,>=2.4 in /usr/local/lib/python3.7/dist-packages (from nbformat>=4.2.0->ipywidgets->pycaret) (2.6.0)\n",
            "Requirement already satisfied: llvmlite<0.35,>=0.34.0.dev0 in /usr/local/lib/python3.7/dist-packages (from numba<0.54->pycaret) (0.34.0)\n",
            "Requirement already satisfied: pytz>=2017.2 in /usr/local/lib/python3.7/dist-packages (from pandas->pycaret) (2018.9)\n",
            "Requirement already satisfied: htmlmin>=0.1.12 in /usr/local/lib/python3.7/dist-packages (from pandas-profiling>=2.8.0->pycaret) (0.1.12)\n",
            "Requirement already satisfied: jinja2>=2.11.1 in /usr/local/lib/python3.7/dist-packages (from pandas-profiling>=2.8.0->pycaret) (2.11.3)\n",
            "Requirement already satisfied: tqdm>=4.48.2 in /usr/local/lib/python3.7/dist-packages (from pandas-profiling>=2.8.0->pycaret) (4.62.3)\n",
            "Requirement already satisfied: visions[type_image_path]==0.7.4 in /usr/local/lib/python3.7/dist-packages (from pandas-profiling>=2.8.0->pycaret) (0.7.4)\n",
            "Requirement already satisfied: tangled-up-in-unicode==0.1.0 in /usr/local/lib/python3.7/dist-packages (from pandas-profiling>=2.8.0->pycaret) (0.1.0)\n",
            "Requirement already satisfied: pydantic>=1.8.1 in /usr/local/lib/python3.7/dist-packages (from pandas-profiling>=2.8.0->pycaret) (1.8.2)\n",
            "Requirement already satisfied: markupsafe~=2.0.1 in /usr/local/lib/python3.7/dist-packages (from pandas-profiling>=2.8.0->pycaret) (2.0.1)\n",
            "Requirement already satisfied: phik>=0.11.1 in /usr/local/lib/python3.7/dist-packages (from pandas-profiling>=2.8.0->pycaret) (0.12.0)\n",
            "Requirement already satisfied: requests>=2.24.0 in /usr/local/lib/python3.7/dist-packages (from pandas-profiling>=2.8.0->pycaret) (2.26.0)\n",
            "Requirement already satisfied: multimethod>=1.4 in /usr/local/lib/python3.7/dist-packages (from pandas-profiling>=2.8.0->pycaret) (1.6)\n",
            "Requirement already satisfied: missingno>=0.4.2 in /usr/local/lib/python3.7/dist-packages (from pandas-profiling>=2.8.0->pycaret) (0.5.0)\n",
            "Requirement already satisfied: PyYAML>=5.0.0 in /usr/local/lib/python3.7/dist-packages (from pandas-profiling>=2.8.0->pycaret) (6.0)\n",
            "Requirement already satisfied: networkx>=2.4 in /usr/local/lib/python3.7/dist-packages (from visions[type_image_path]==0.7.4->pandas-profiling>=2.8.0->pycaret) (2.6.3)\n",
            "Requirement already satisfied: attrs>=19.3.0 in /usr/local/lib/python3.7/dist-packages (from visions[type_image_path]==0.7.4->pandas-profiling>=2.8.0->pycaret) (21.2.0)\n",
            "Requirement already satisfied: imagehash in /usr/local/lib/python3.7/dist-packages (from visions[type_image_path]==0.7.4->pandas-profiling>=2.8.0->pycaret) (4.2.1)\n",
            "Requirement already satisfied: Pillow in /usr/local/lib/python3.7/dist-packages (from visions[type_image_path]==0.7.4->pandas-profiling>=2.8.0->pycaret) (7.1.2)\n",
            "Requirement already satisfied: retrying>=1.3.3 in /usr/local/lib/python3.7/dist-packages (from plotly>=4.4.1->pycaret) (1.3.3)\n",
            "Requirement already satisfied: wcwidth in /usr/local/lib/python3.7/dist-packages (from prompt-toolkit<2.0.0,>=1.0.4->IPython->pycaret) (0.2.5)\n",
            "Requirement already satisfied: typing-extensions>=3.7.4.3 in /usr/local/lib/python3.7/dist-packages (from pydantic>=1.8.1->pandas-profiling>=2.8.0->pycaret) (3.7.4.3)\n",
            "Requirement already satisfied: urllib3<1.27,>=1.21.1 in /usr/local/lib/python3.7/dist-packages (from requests>=2.24.0->pandas-profiling>=2.8.0->pycaret) (1.24.3)\n",
            "Requirement already satisfied: charset-normalizer~=2.0.0 in /usr/local/lib/python3.7/dist-packages (from requests>=2.24.0->pandas-profiling>=2.8.0->pycaret) (2.0.7)\n",
            "Requirement already satisfied: idna<4,>=2.5 in /usr/local/lib/python3.7/dist-packages (from requests>=2.24.0->pandas-profiling>=2.8.0->pycaret) (2.10)\n",
            "Requirement already satisfied: certifi>=2017.4.17 in /usr/local/lib/python3.7/dist-packages (from requests>=2.24.0->pandas-profiling>=2.8.0->pycaret) (2021.5.30)\n",
            "Requirement already satisfied: thinc==7.4.0 in /usr/local/lib/python3.7/dist-packages (from spacy<2.4.0->pycaret) (7.4.0)\n",
            "Requirement already satisfied: catalogue<1.1.0,>=0.0.7 in /usr/local/lib/python3.7/dist-packages (from spacy<2.4.0->pycaret) (1.0.0)\n",
            "Requirement already satisfied: preshed<3.1.0,>=3.0.2 in /usr/local/lib/python3.7/dist-packages (from spacy<2.4.0->pycaret) (3.0.5)\n",
            "Requirement already satisfied: srsly<1.1.0,>=1.0.2 in /usr/local/lib/python3.7/dist-packages (from spacy<2.4.0->pycaret) (1.0.5)\n",
            "Requirement already satisfied: murmurhash<1.1.0,>=0.28.0 in /usr/local/lib/python3.7/dist-packages (from spacy<2.4.0->pycaret) (1.0.5)\n",
            "Requirement already satisfied: blis<0.5.0,>=0.4.0 in /usr/local/lib/python3.7/dist-packages (from spacy<2.4.0->pycaret) (0.4.1)\n",
            "Requirement already satisfied: wasabi<1.1.0,>=0.4.0 in /usr/local/lib/python3.7/dist-packages (from spacy<2.4.0->pycaret) (0.8.2)\n",
            "Requirement already satisfied: plac<1.2.0,>=0.9.6 in /usr/local/lib/python3.7/dist-packages (from spacy<2.4.0->pycaret) (1.1.3)\n",
            "Requirement already satisfied: cymem<2.1.0,>=2.0.2 in /usr/local/lib/python3.7/dist-packages (from spacy<2.4.0->pycaret) (2.0.5)\n",
            "Requirement already satisfied: importlib-metadata>=0.20 in /usr/local/lib/python3.7/dist-packages (from catalogue<1.1.0,>=0.0.7->spacy<2.4.0->pycaret) (4.8.1)\n",
            "Requirement already satisfied: zipp>=0.5 in /usr/local/lib/python3.7/dist-packages (from importlib-metadata>=0.20->catalogue<1.1.0,>=0.0.7->spacy<2.4.0->pycaret) (3.6.0)\n",
            "Requirement already satisfied: notebook>=4.4.1 in /usr/local/lib/python3.7/dist-packages (from widgetsnbextension~=3.5.0->ipywidgets->pycaret) (5.3.1)\n",
            "Requirement already satisfied: Send2Trash in /usr/local/lib/python3.7/dist-packages (from notebook>=4.4.1->widgetsnbextension~=3.5.0->ipywidgets->pycaret) (1.8.0)\n",
            "Requirement already satisfied: nbconvert in /usr/local/lib/python3.7/dist-packages (from notebook>=4.4.1->widgetsnbextension~=3.5.0->ipywidgets->pycaret) (5.6.1)\n",
            "Requirement already satisfied: terminado>=0.8.1 in /usr/local/lib/python3.7/dist-packages (from notebook>=4.4.1->widgetsnbextension~=3.5.0->ipywidgets->pycaret) (0.12.1)\n",
            "Requirement already satisfied: pyzmq>=13 in /usr/local/lib/python3.7/dist-packages (from jupyter-client->ipykernel>=4.5.1->ipywidgets->pycaret) (22.3.0)\n",
            "Requirement already satisfied: ptyprocess in /usr/local/lib/python3.7/dist-packages (from terminado>=0.8.1->notebook>=4.4.1->widgetsnbextension~=3.5.0->ipywidgets->pycaret) (0.7.0)\n",
            "Requirement already satisfied: PyWavelets in /usr/local/lib/python3.7/dist-packages (from imagehash->visions[type_image_path]==0.7.4->pandas-profiling>=2.8.0->pycaret) (1.1.1)\n",
            "Requirement already satisfied: gitpython>=2.1.0 in /usr/local/lib/python3.7/dist-packages (from mlflow->pycaret) (3.1.24)\n",
            "Requirement already satisfied: entrypoints in /usr/local/lib/python3.7/dist-packages (from mlflow->pycaret) (0.3)\n",
            "Requirement already satisfied: cloudpickle in /usr/local/lib/python3.7/dist-packages (from mlflow->pycaret) (1.3.0)\n",
            "Requirement already satisfied: sqlalchemy in /usr/local/lib/python3.7/dist-packages (from mlflow->pycaret) (1.4.25)\n",
            "Requirement already satisfied: sqlparse>=0.3.1 in /usr/local/lib/python3.7/dist-packages (from mlflow->pycaret) (0.4.2)\n",
            "Requirement already satisfied: protobuf>=3.7.0 in /usr/local/lib/python3.7/dist-packages (from mlflow->pycaret) (3.17.3)\n",
            "Requirement already satisfied: alembic<=1.4.1 in /usr/local/lib/python3.7/dist-packages (from mlflow->pycaret) (1.4.1)\n",
            "Requirement already satisfied: Flask in /usr/local/lib/python3.7/dist-packages (from mlflow->pycaret) (1.1.4)\n",
            "Requirement already satisfied: databricks-cli>=0.8.7 in /usr/local/lib/python3.7/dist-packages (from mlflow->pycaret) (0.16.2)\n",
            "Requirement already satisfied: querystring-parser in /usr/local/lib/python3.7/dist-packages (from mlflow->pycaret) (1.2.4)\n",
            "Requirement already satisfied: click>=7.0 in /usr/local/lib/python3.7/dist-packages (from mlflow->pycaret) (7.1.2)\n",
            "Requirement already satisfied: prometheus-flask-exporter in /usr/local/lib/python3.7/dist-packages (from mlflow->pycaret) (0.18.5)\n",
            "Requirement already satisfied: packaging in /usr/local/lib/python3.7/dist-packages (from mlflow->pycaret) (21.0)\n",
            "Requirement already satisfied: gunicorn in /usr/local/lib/python3.7/dist-packages (from mlflow->pycaret) (20.1.0)\n",
            "Requirement already satisfied: docker>=4.0.0 in /usr/local/lib/python3.7/dist-packages (from mlflow->pycaret) (5.0.3)\n",
            "Requirement already satisfied: Mako in /usr/local/lib/python3.7/dist-packages (from alembic<=1.4.1->mlflow->pycaret) (1.1.5)\n",
            "Requirement already satisfied: python-editor>=0.3 in /usr/local/lib/python3.7/dist-packages (from alembic<=1.4.1->mlflow->pycaret) (1.0.4)\n",
            "Requirement already satisfied: tabulate>=0.7.7 in /usr/local/lib/python3.7/dist-packages (from databricks-cli>=0.8.7->mlflow->pycaret) (0.8.9)\n",
            "Requirement already satisfied: websocket-client>=0.32.0 in /usr/local/lib/python3.7/dist-packages (from docker>=4.0.0->mlflow->pycaret) (1.2.1)\n",
            "Requirement already satisfied: gitdb<5,>=4.0.1 in /usr/local/lib/python3.7/dist-packages (from gitpython>=2.1.0->mlflow->pycaret) (4.0.9)\n",
            "Requirement already satisfied: smmap<6,>=3.0.1 in /usr/local/lib/python3.7/dist-packages (from gitdb<5,>=4.0.1->gitpython>=2.1.0->mlflow->pycaret) (5.0.0)\n",
            "Requirement already satisfied: greenlet!=0.4.17 in /usr/local/lib/python3.7/dist-packages (from sqlalchemy->mlflow->pycaret) (1.1.2)\n",
            "Requirement already satisfied: Werkzeug<2.0,>=0.15 in /usr/local/lib/python3.7/dist-packages (from Flask->mlflow->pycaret) (1.0.1)\n",
            "Requirement already satisfied: itsdangerous<2.0,>=0.24 in /usr/local/lib/python3.7/dist-packages (from Flask->mlflow->pycaret) (1.1.0)\n",
            "Requirement already satisfied: mistune<2,>=0.8.1 in /usr/local/lib/python3.7/dist-packages (from nbconvert->notebook>=4.4.1->widgetsnbextension~=3.5.0->ipywidgets->pycaret) (0.8.4)\n",
            "Requirement already satisfied: bleach in /usr/local/lib/python3.7/dist-packages (from nbconvert->notebook>=4.4.1->widgetsnbextension~=3.5.0->ipywidgets->pycaret) (4.1.0)\n",
            "Requirement already satisfied: defusedxml in /usr/local/lib/python3.7/dist-packages (from nbconvert->notebook>=4.4.1->widgetsnbextension~=3.5.0->ipywidgets->pycaret) (0.7.1)\n",
            "Requirement already satisfied: testpath in /usr/local/lib/python3.7/dist-packages (from nbconvert->notebook>=4.4.1->widgetsnbextension~=3.5.0->ipywidgets->pycaret) (0.5.0)\n",
            "Requirement already satisfied: pandocfilters>=1.4.1 in /usr/local/lib/python3.7/dist-packages (from nbconvert->notebook>=4.4.1->widgetsnbextension~=3.5.0->ipywidgets->pycaret) (1.5.0)\n",
            "Requirement already satisfied: webencodings in /usr/local/lib/python3.7/dist-packages (from bleach->nbconvert->notebook>=4.4.1->widgetsnbextension~=3.5.0->ipywidgets->pycaret) (0.5.1)\n",
            "Requirement already satisfied: prometheus-client in /usr/local/lib/python3.7/dist-packages (from prometheus-flask-exporter->mlflow->pycaret) (0.12.0)\n",
            "Requirement already satisfied: numexpr in /usr/local/lib/python3.7/dist-packages (from pyLDAvis->pycaret) (2.7.3)\n",
            "Requirement already satisfied: funcy in /usr/local/lib/python3.7/dist-packages (from pyLDAvis->pycaret) (1.16)\n",
            "Requirement already satisfied: future in /usr/local/lib/python3.7/dist-packages (from pyLDAvis->pycaret) (0.16.0)\n",
            "Requirement already satisfied: statsmodels in /usr/local/lib/python3.7/dist-packages (from pyod->pycaret) (0.10.2)\n",
            "Requirement already satisfied: patsy>=0.4.0 in /usr/local/lib/python3.7/dist-packages (from statsmodels->pyod->pycaret) (0.5.2)\n",
            "Requirement already satisfied: pynndescent>=0.5 in /usr/local/lib/python3.7/dist-packages (from umap-learn->pycaret) (0.5.5)\n"
          ]
        }
      ]
    },
    {
      "cell_type": "markdown",
      "metadata": {
        "id": "B8UKpPNi0Rx1"
      },
      "source": [
        "## **3. Importando o conjunto de dados**"
      ]
    },
    {
      "cell_type": "code",
      "metadata": {
        "id": "yBB-DB3ukD66"
      },
      "source": [
        "# instanciando a \"url\", salvei uma cópia dos dados no meu repositório de datasetes do github\n",
        "url = 'https://raw.githubusercontent.com/FGalvao77/datasets/main/Prostate_Cancer.csv'"
      ],
      "execution_count": 2,
      "outputs": []
    },
    {
      "cell_type": "code",
      "metadata": {
        "id": "kekqVyyrk9Iw"
      },
      "source": [
        "# importando a biblioteca para modelagem de dados\n",
        "import pandas as pd"
      ],
      "execution_count": 3,
      "outputs": []
    },
    {
      "cell_type": "code",
      "metadata": {
        "id": "AtSOojyxkvsm"
      },
      "source": [
        "# realizando o carregamento e leitura do conjunto de dados\n",
        "data = pd.read_csv(url, sep=',')"
      ],
      "execution_count": 4,
      "outputs": []
    },
    {
      "cell_type": "code",
      "metadata": {
        "id": "Qc4oZ4ylpCUQ",
        "colab": {
          "base_uri": "https://localhost:8080/"
        },
        "outputId": "9c083534-41a3-4f2b-cfe6-3e605cd1edb7"
      },
      "source": [
        "# visualizando o tipo do objeto\n",
        "type(data)"
      ],
      "execution_count": 5,
      "outputs": [
        {
          "output_type": "execute_result",
          "data": {
            "text/plain": [
              "pandas.core.frame.DataFrame"
            ]
          },
          "metadata": {},
          "execution_count": 5
        }
      ]
    },
    {
      "cell_type": "code",
      "metadata": {
        "id": "virv7KB4mLi4",
        "colab": {
          "base_uri": "https://localhost:8080/",
          "height": 204
        },
        "outputId": "a8429e6f-348e-462d-fd07-3ece6980b884"
      },
      "source": [
        "# visualizando as 5 primeiras linhas\n",
        "data.head()"
      ],
      "execution_count": 6,
      "outputs": [
        {
          "output_type": "execute_result",
          "data": {
            "text/html": [
              "<div>\n",
              "<style scoped>\n",
              "    .dataframe tbody tr th:only-of-type {\n",
              "        vertical-align: middle;\n",
              "    }\n",
              "\n",
              "    .dataframe tbody tr th {\n",
              "        vertical-align: top;\n",
              "    }\n",
              "\n",
              "    .dataframe thead th {\n",
              "        text-align: right;\n",
              "    }\n",
              "</style>\n",
              "<table border=\"1\" class=\"dataframe\">\n",
              "  <thead>\n",
              "    <tr style=\"text-align: right;\">\n",
              "      <th></th>\n",
              "      <th>id</th>\n",
              "      <th>diagnosis_result</th>\n",
              "      <th>radius</th>\n",
              "      <th>texture</th>\n",
              "      <th>perimeter</th>\n",
              "      <th>area</th>\n",
              "      <th>smoothness</th>\n",
              "      <th>compactness</th>\n",
              "      <th>symmetry</th>\n",
              "      <th>fractal_dimension</th>\n",
              "    </tr>\n",
              "  </thead>\n",
              "  <tbody>\n",
              "    <tr>\n",
              "      <th>0</th>\n",
              "      <td>1</td>\n",
              "      <td>M</td>\n",
              "      <td>23</td>\n",
              "      <td>12</td>\n",
              "      <td>151</td>\n",
              "      <td>954</td>\n",
              "      <td>0.143</td>\n",
              "      <td>0.278</td>\n",
              "      <td>0.242</td>\n",
              "      <td>0.079</td>\n",
              "    </tr>\n",
              "    <tr>\n",
              "      <th>1</th>\n",
              "      <td>2</td>\n",
              "      <td>B</td>\n",
              "      <td>9</td>\n",
              "      <td>13</td>\n",
              "      <td>133</td>\n",
              "      <td>1326</td>\n",
              "      <td>0.143</td>\n",
              "      <td>0.079</td>\n",
              "      <td>0.181</td>\n",
              "      <td>0.057</td>\n",
              "    </tr>\n",
              "    <tr>\n",
              "      <th>2</th>\n",
              "      <td>3</td>\n",
              "      <td>M</td>\n",
              "      <td>21</td>\n",
              "      <td>27</td>\n",
              "      <td>130</td>\n",
              "      <td>1203</td>\n",
              "      <td>0.125</td>\n",
              "      <td>0.160</td>\n",
              "      <td>0.207</td>\n",
              "      <td>0.060</td>\n",
              "    </tr>\n",
              "    <tr>\n",
              "      <th>3</th>\n",
              "      <td>4</td>\n",
              "      <td>M</td>\n",
              "      <td>14</td>\n",
              "      <td>16</td>\n",
              "      <td>78</td>\n",
              "      <td>386</td>\n",
              "      <td>0.070</td>\n",
              "      <td>0.284</td>\n",
              "      <td>0.260</td>\n",
              "      <td>0.097</td>\n",
              "    </tr>\n",
              "    <tr>\n",
              "      <th>4</th>\n",
              "      <td>5</td>\n",
              "      <td>M</td>\n",
              "      <td>9</td>\n",
              "      <td>19</td>\n",
              "      <td>135</td>\n",
              "      <td>1297</td>\n",
              "      <td>0.141</td>\n",
              "      <td>0.133</td>\n",
              "      <td>0.181</td>\n",
              "      <td>0.059</td>\n",
              "    </tr>\n",
              "  </tbody>\n",
              "</table>\n",
              "</div>"
            ],
            "text/plain": [
              "   id diagnosis_result  radius  ...  compactness  symmetry  fractal_dimension\n",
              "0   1                M      23  ...        0.278     0.242              0.079\n",
              "1   2                B       9  ...        0.079     0.181              0.057\n",
              "2   3                M      21  ...        0.160     0.207              0.060\n",
              "3   4                M      14  ...        0.284     0.260              0.097\n",
              "4   5                M       9  ...        0.133     0.181              0.059\n",
              "\n",
              "[5 rows x 10 columns]"
            ]
          },
          "metadata": {},
          "execution_count": 6
        }
      ]
    },
    {
      "cell_type": "markdown",
      "metadata": {
        "id": "jh7KMw6P0fK3"
      },
      "source": [
        "## **4. Preparando os dados**"
      ]
    },
    {
      "cell_type": "code",
      "metadata": {
        "id": "1WZatKTTnQlr"
      },
      "source": [
        "# realizando um mapeamento da variável \"resultado_diagnostico\" e atualizando o nome das instâncias presentes\n",
        "data['diagnosis_result'] = data['diagnosis_result'].map({'M': 'maligno', \n",
        "                                                         'B': 'benigno'})"
      ],
      "execution_count": 7,
      "outputs": []
    },
    {
      "cell_type": "code",
      "metadata": {
        "id": "vGNFc5gxqdko",
        "colab": {
          "base_uri": "https://localhost:8080/"
        },
        "outputId": "98768b11-c7b7-4635-b20b-b39813a7f5cf"
      },
      "source": [
        "# visualizando as instâncias únicas da variável \"diagnosis_result\" e contabilizando-as\n",
        "data['diagnosis_result'].value_counts()"
      ],
      "execution_count": 8,
      "outputs": [
        {
          "output_type": "execute_result",
          "data": {
            "text/plain": [
              "maligno    62\n",
              "benigno    38\n",
              "Name: diagnosis_result, dtype: int64"
            ]
          },
          "metadata": {},
          "execution_count": 8
        }
      ]
    },
    {
      "cell_type": "code",
      "metadata": {
        "id": "dNLto1cXp07T"
      },
      "source": [
        "# instanciando o conjunto de dados nas variáveis X e y\n",
        "X = data \n",
        "y = data"
      ],
      "execution_count": 9,
      "outputs": []
    },
    {
      "cell_type": "code",
      "metadata": {
        "id": "NX3oBeHUp034"
      },
      "source": [
        "# realizando o reset dos índices\n",
        "X.reset_index(drop=True, inplace=True)\n",
        "y.reset_index(drop=True, inplace=True)"
      ],
      "execution_count": 10,
      "outputs": []
    },
    {
      "cell_type": "code",
      "metadata": {
        "id": "cNu7gsnsp00c",
        "colab": {
          "base_uri": "https://localhost:8080/"
        },
        "outputId": "119412db-ce9a-4dcf-9e96-0b428427e0d6"
      },
      "source": [
        "# visualizando a dimensão das variáveis\n",
        "X.shape, y.shape"
      ],
      "execution_count": 11,
      "outputs": [
        {
          "output_type": "execute_result",
          "data": {
            "text/plain": [
              "((100, 10), (100, 10))"
            ]
          },
          "metadata": {},
          "execution_count": 11
        }
      ]
    },
    {
      "cell_type": "code",
      "metadata": {
        "id": "n8vjmEOgkD2C"
      },
      "source": [
        "# importando a função para realizar a partição dos dados em treino e teste\n",
        "from sklearn.model_selection import train_test_split\n",
        "\n",
        "# dividindo os dados das variáveis X e y em partes para treino e teste\n",
        "X_train, X_test, y_train, y_test = train_test_split(X, y, \n",
        "                                                    test_size=0.30, # 30% dos dados para teste\n",
        "                                                    random_state=123)"
      ],
      "execution_count": 12,
      "outputs": []
    },
    {
      "cell_type": "code",
      "metadata": {
        "id": "pFq53NrTvyAB",
        "colab": {
          "base_uri": "https://localhost:8080/"
        },
        "outputId": "0a840eb9-1725-44f5-da2b-812fd4c22a9a"
      },
      "source": [
        "# visualizando o tamanho das particões dos dados\n",
        "len(X_train), len(X_test), len(y_train), len(y_test)"
      ],
      "execution_count": 13,
      "outputs": [
        {
          "output_type": "execute_result",
          "data": {
            "text/plain": [
              "(70, 30, 70, 30)"
            ]
          },
          "metadata": {},
          "execution_count": 13
        }
      ]
    },
    {
      "cell_type": "code",
      "metadata": {
        "id": "1K1b5nlkpLcV",
        "colab": {
          "base_uri": "https://localhost:8080/"
        },
        "outputId": "27423b00-4ab0-4ee1-db3f-9904021d53a0"
      },
      "source": [
        "# visualizando o tipo de objeto dos particionamento dos dados em treino e teste\n",
        "type(X_train), type(X_test), type(y_train), type(y_test)"
      ],
      "execution_count": 14,
      "outputs": [
        {
          "output_type": "execute_result",
          "data": {
            "text/plain": [
              "(pandas.core.frame.DataFrame,\n",
              " pandas.core.frame.DataFrame,\n",
              " pandas.core.frame.DataFrame,\n",
              " pandas.core.frame.DataFrame)"
            ]
          },
          "metadata": {},
          "execution_count": 14
        }
      ]
    },
    {
      "cell_type": "markdown",
      "metadata": {
        "id": "xZQcbCLk0omB"
      },
      "source": [
        "## **5. Aplicando o classificador**"
      ]
    },
    {
      "cell_type": "code",
      "metadata": {
        "id": "zqgEVozSkDza"
      },
      "source": [
        "# importando a função para classificação\n",
        "from pycaret.classification import*"
      ],
      "execution_count": 15,
      "outputs": []
    },
    {
      "cell_type": "code",
      "metadata": {
        "id": "xsceOcTQkDxI",
        "colab": {
          "base_uri": "https://localhost:8080/",
          "height": 1000,
          "referenced_widgets": [
            "7aef5ac2d992427cb7ba825d0c00f8ca",
            "c12ae8abac1d432885cb22df5755e617",
            "67dbd0e6f2dd426f93a3c4f75cd0ffde"
          ]
        },
        "outputId": "a94c1fea-be60-4bea-95e0-05530bff706b"
      },
      "source": [
        "# inicializando o pipeline de classificação\n",
        "classificador = setup(X_train,                          # dados de entrada do treinamento\n",
        "                      ignore_features = ['id'],         # ignorando o recurso \"id\"\n",
        "                      remove_outliers=True,             # removendo dados discrepantes\n",
        "                      normalize=True,                   # normalizando os dados\n",
        "                      fold=5,                           # validação cruzada\n",
        "                    #   pca=True,                         # reduzindo a dimensionalidade dos dados\n",
        "                      target='diagnosis_result',        # instanciando a variável alvo\n",
        "                      feature_selection=True,           # aplicando selecão dos recursos\n",
        "                      feature_selection_threshold=0.7,  # limite para seleção de recursos\n",
        "                      ignore_low_variance=True,         # ignorando baixa variância\n",
        "                      remove_multicollinearity=True,    # removendo multicolinearidade\n",
        "                      multicollinearity_threshold=0.7,  # definindo um limite para descarte da multicolinearidade\n",
        "                      remove_perfect_collinearity=True, # removendo colinearidade perfeita\n",
        "                      silent=True)                      # controla a entrada de confirmação de tipos de dados"
      ],
      "execution_count": 16,
      "outputs": [
        {
          "output_type": "display_data",
          "data": {
            "text/html": [
              "<div>\n",
              "<style scoped>\n",
              "    .dataframe tbody tr th:only-of-type {\n",
              "        vertical-align: middle;\n",
              "    }\n",
              "\n",
              "    .dataframe tbody tr th {\n",
              "        vertical-align: top;\n",
              "    }\n",
              "\n",
              "    .dataframe thead th {\n",
              "        text-align: right;\n",
              "    }\n",
              "</style>\n",
              "<table border=\"1\" class=\"dataframe\">\n",
              "  <thead>\n",
              "    <tr style=\"text-align: right;\">\n",
              "      <th></th>\n",
              "      <th>Description</th>\n",
              "      <th>Value</th>\n",
              "    </tr>\n",
              "  </thead>\n",
              "  <tbody>\n",
              "    <tr>\n",
              "      <th>0</th>\n",
              "      <td>session_id</td>\n",
              "      <td>1016</td>\n",
              "    </tr>\n",
              "    <tr>\n",
              "      <th>1</th>\n",
              "      <td>Target</td>\n",
              "      <td>diagnosis_result</td>\n",
              "    </tr>\n",
              "    <tr>\n",
              "      <th>2</th>\n",
              "      <td>Target Type</td>\n",
              "      <td>Binary</td>\n",
              "    </tr>\n",
              "    <tr>\n",
              "      <th>3</th>\n",
              "      <td>Label Encoded</td>\n",
              "      <td>benigno: 0, maligno: 1</td>\n",
              "    </tr>\n",
              "    <tr>\n",
              "      <th>4</th>\n",
              "      <td>Original Data</td>\n",
              "      <td>(70, 10)</td>\n",
              "    </tr>\n",
              "    <tr>\n",
              "      <th>5</th>\n",
              "      <td>Missing Values</td>\n",
              "      <td>False</td>\n",
              "    </tr>\n",
              "    <tr>\n",
              "      <th>6</th>\n",
              "      <td>Numeric Features</td>\n",
              "      <td>6</td>\n",
              "    </tr>\n",
              "    <tr>\n",
              "      <th>7</th>\n",
              "      <td>Categorical Features</td>\n",
              "      <td>2</td>\n",
              "    </tr>\n",
              "    <tr>\n",
              "      <th>8</th>\n",
              "      <td>Ordinal Features</td>\n",
              "      <td>False</td>\n",
              "    </tr>\n",
              "    <tr>\n",
              "      <th>9</th>\n",
              "      <td>High Cardinality Features</td>\n",
              "      <td>False</td>\n",
              "    </tr>\n",
              "    <tr>\n",
              "      <th>10</th>\n",
              "      <td>High Cardinality Method</td>\n",
              "      <td>None</td>\n",
              "    </tr>\n",
              "    <tr>\n",
              "      <th>11</th>\n",
              "      <td>Transformed Train Set</td>\n",
              "      <td>(45, 13)</td>\n",
              "    </tr>\n",
              "    <tr>\n",
              "      <th>12</th>\n",
              "      <td>Transformed Test Set</td>\n",
              "      <td>(22, 13)</td>\n",
              "    </tr>\n",
              "    <tr>\n",
              "      <th>13</th>\n",
              "      <td>Shuffle Train-Test</td>\n",
              "      <td>True</td>\n",
              "    </tr>\n",
              "    <tr>\n",
              "      <th>14</th>\n",
              "      <td>Stratify Train-Test</td>\n",
              "      <td>False</td>\n",
              "    </tr>\n",
              "    <tr>\n",
              "      <th>15</th>\n",
              "      <td>Fold Generator</td>\n",
              "      <td>StratifiedKFold</td>\n",
              "    </tr>\n",
              "    <tr>\n",
              "      <th>16</th>\n",
              "      <td>Fold Number</td>\n",
              "      <td>5</td>\n",
              "    </tr>\n",
              "    <tr>\n",
              "      <th>17</th>\n",
              "      <td>CPU Jobs</td>\n",
              "      <td>-1</td>\n",
              "    </tr>\n",
              "    <tr>\n",
              "      <th>18</th>\n",
              "      <td>Use GPU</td>\n",
              "      <td>False</td>\n",
              "    </tr>\n",
              "    <tr>\n",
              "      <th>19</th>\n",
              "      <td>Log Experiment</td>\n",
              "      <td>False</td>\n",
              "    </tr>\n",
              "    <tr>\n",
              "      <th>20</th>\n",
              "      <td>Experiment Name</td>\n",
              "      <td>clf-default-name</td>\n",
              "    </tr>\n",
              "    <tr>\n",
              "      <th>21</th>\n",
              "      <td>USI</td>\n",
              "      <td>9344</td>\n",
              "    </tr>\n",
              "    <tr>\n",
              "      <th>22</th>\n",
              "      <td>Imputation Type</td>\n",
              "      <td>simple</td>\n",
              "    </tr>\n",
              "    <tr>\n",
              "      <th>23</th>\n",
              "      <td>Iterative Imputation Iteration</td>\n",
              "      <td>None</td>\n",
              "    </tr>\n",
              "    <tr>\n",
              "      <th>24</th>\n",
              "      <td>Numeric Imputer</td>\n",
              "      <td>mean</td>\n",
              "    </tr>\n",
              "    <tr>\n",
              "      <th>25</th>\n",
              "      <td>Iterative Imputation Numeric Model</td>\n",
              "      <td>None</td>\n",
              "    </tr>\n",
              "    <tr>\n",
              "      <th>26</th>\n",
              "      <td>Categorical Imputer</td>\n",
              "      <td>constant</td>\n",
              "    </tr>\n",
              "    <tr>\n",
              "      <th>27</th>\n",
              "      <td>Iterative Imputation Categorical Model</td>\n",
              "      <td>None</td>\n",
              "    </tr>\n",
              "    <tr>\n",
              "      <th>28</th>\n",
              "      <td>Unknown Categoricals Handling</td>\n",
              "      <td>least_frequent</td>\n",
              "    </tr>\n",
              "    <tr>\n",
              "      <th>29</th>\n",
              "      <td>Normalize</td>\n",
              "      <td>True</td>\n",
              "    </tr>\n",
              "    <tr>\n",
              "      <th>30</th>\n",
              "      <td>Normalize Method</td>\n",
              "      <td>zscore</td>\n",
              "    </tr>\n",
              "    <tr>\n",
              "      <th>31</th>\n",
              "      <td>Transformation</td>\n",
              "      <td>False</td>\n",
              "    </tr>\n",
              "    <tr>\n",
              "      <th>32</th>\n",
              "      <td>Transformation Method</td>\n",
              "      <td>None</td>\n",
              "    </tr>\n",
              "    <tr>\n",
              "      <th>33</th>\n",
              "      <td>PCA</td>\n",
              "      <td>False</td>\n",
              "    </tr>\n",
              "    <tr>\n",
              "      <th>34</th>\n",
              "      <td>PCA Method</td>\n",
              "      <td>None</td>\n",
              "    </tr>\n",
              "    <tr>\n",
              "      <th>35</th>\n",
              "      <td>PCA Components</td>\n",
              "      <td>None</td>\n",
              "    </tr>\n",
              "    <tr>\n",
              "      <th>36</th>\n",
              "      <td>Ignore Low Variance</td>\n",
              "      <td>True</td>\n",
              "    </tr>\n",
              "    <tr>\n",
              "      <th>37</th>\n",
              "      <td>Combine Rare Levels</td>\n",
              "      <td>False</td>\n",
              "    </tr>\n",
              "    <tr>\n",
              "      <th>38</th>\n",
              "      <td>Rare Level Threshold</td>\n",
              "      <td>None</td>\n",
              "    </tr>\n",
              "    <tr>\n",
              "      <th>39</th>\n",
              "      <td>Numeric Binning</td>\n",
              "      <td>False</td>\n",
              "    </tr>\n",
              "    <tr>\n",
              "      <th>40</th>\n",
              "      <td>Remove Outliers</td>\n",
              "      <td>True</td>\n",
              "    </tr>\n",
              "    <tr>\n",
              "      <th>41</th>\n",
              "      <td>Outliers Threshold</td>\n",
              "      <td>0.05</td>\n",
              "    </tr>\n",
              "    <tr>\n",
              "      <th>42</th>\n",
              "      <td>Remove Multicollinearity</td>\n",
              "      <td>True</td>\n",
              "    </tr>\n",
              "    <tr>\n",
              "      <th>43</th>\n",
              "      <td>Multicollinearity Threshold</td>\n",
              "      <td>0.7</td>\n",
              "    </tr>\n",
              "    <tr>\n",
              "      <th>44</th>\n",
              "      <td>Remove Perfect Collinearity</td>\n",
              "      <td>True</td>\n",
              "    </tr>\n",
              "    <tr>\n",
              "      <th>45</th>\n",
              "      <td>Clustering</td>\n",
              "      <td>False</td>\n",
              "    </tr>\n",
              "    <tr>\n",
              "      <th>46</th>\n",
              "      <td>Clustering Iteration</td>\n",
              "      <td>None</td>\n",
              "    </tr>\n",
              "    <tr>\n",
              "      <th>47</th>\n",
              "      <td>Polynomial Features</td>\n",
              "      <td>False</td>\n",
              "    </tr>\n",
              "    <tr>\n",
              "      <th>48</th>\n",
              "      <td>Polynomial Degree</td>\n",
              "      <td>None</td>\n",
              "    </tr>\n",
              "    <tr>\n",
              "      <th>49</th>\n",
              "      <td>Trignometry Features</td>\n",
              "      <td>False</td>\n",
              "    </tr>\n",
              "    <tr>\n",
              "      <th>50</th>\n",
              "      <td>Polynomial Threshold</td>\n",
              "      <td>None</td>\n",
              "    </tr>\n",
              "    <tr>\n",
              "      <th>51</th>\n",
              "      <td>Group Features</td>\n",
              "      <td>False</td>\n",
              "    </tr>\n",
              "    <tr>\n",
              "      <th>52</th>\n",
              "      <td>Feature Selection</td>\n",
              "      <td>True</td>\n",
              "    </tr>\n",
              "    <tr>\n",
              "      <th>53</th>\n",
              "      <td>Feature Selection Method</td>\n",
              "      <td>classic</td>\n",
              "    </tr>\n",
              "    <tr>\n",
              "      <th>54</th>\n",
              "      <td>Features Selection Threshold</td>\n",
              "      <td>0.7</td>\n",
              "    </tr>\n",
              "    <tr>\n",
              "      <th>55</th>\n",
              "      <td>Feature Interaction</td>\n",
              "      <td>False</td>\n",
              "    </tr>\n",
              "    <tr>\n",
              "      <th>56</th>\n",
              "      <td>Feature Ratio</td>\n",
              "      <td>False</td>\n",
              "    </tr>\n",
              "    <tr>\n",
              "      <th>57</th>\n",
              "      <td>Interaction Threshold</td>\n",
              "      <td>None</td>\n",
              "    </tr>\n",
              "    <tr>\n",
              "      <th>58</th>\n",
              "      <td>Fix Imbalance</td>\n",
              "      <td>False</td>\n",
              "    </tr>\n",
              "    <tr>\n",
              "      <th>59</th>\n",
              "      <td>Fix Imbalance Method</td>\n",
              "      <td>SMOTE</td>\n",
              "    </tr>\n",
              "  </tbody>\n",
              "</table>\n",
              "</div>"
            ],
            "text/plain": [
              "                               Description                   Value\n",
              "0                               session_id                    1016\n",
              "1                                   Target        diagnosis_result\n",
              "2                              Target Type                  Binary\n",
              "3                            Label Encoded  benigno: 0, maligno: 1\n",
              "4                            Original Data                (70, 10)\n",
              "5                           Missing Values                   False\n",
              "6                         Numeric Features                       6\n",
              "7                     Categorical Features                       2\n",
              "8                         Ordinal Features                   False\n",
              "9                High Cardinality Features                   False\n",
              "10                 High Cardinality Method                    None\n",
              "11                   Transformed Train Set                (45, 13)\n",
              "12                    Transformed Test Set                (22, 13)\n",
              "13                      Shuffle Train-Test                    True\n",
              "14                     Stratify Train-Test                   False\n",
              "15                          Fold Generator         StratifiedKFold\n",
              "16                             Fold Number                       5\n",
              "17                                CPU Jobs                      -1\n",
              "18                                 Use GPU                   False\n",
              "19                          Log Experiment                   False\n",
              "20                         Experiment Name        clf-default-name\n",
              "21                                     USI                    9344\n",
              "22                         Imputation Type                  simple\n",
              "23          Iterative Imputation Iteration                    None\n",
              "24                         Numeric Imputer                    mean\n",
              "25      Iterative Imputation Numeric Model                    None\n",
              "26                     Categorical Imputer                constant\n",
              "27  Iterative Imputation Categorical Model                    None\n",
              "28           Unknown Categoricals Handling          least_frequent\n",
              "29                               Normalize                    True\n",
              "30                        Normalize Method                  zscore\n",
              "31                          Transformation                   False\n",
              "32                   Transformation Method                    None\n",
              "33                                     PCA                   False\n",
              "34                              PCA Method                    None\n",
              "35                          PCA Components                    None\n",
              "36                     Ignore Low Variance                    True\n",
              "37                     Combine Rare Levels                   False\n",
              "38                    Rare Level Threshold                    None\n",
              "39                         Numeric Binning                   False\n",
              "40                         Remove Outliers                    True\n",
              "41                      Outliers Threshold                    0.05\n",
              "42                Remove Multicollinearity                    True\n",
              "43             Multicollinearity Threshold                     0.7\n",
              "44             Remove Perfect Collinearity                    True\n",
              "45                              Clustering                   False\n",
              "46                    Clustering Iteration                    None\n",
              "47                     Polynomial Features                   False\n",
              "48                       Polynomial Degree                    None\n",
              "49                    Trignometry Features                   False\n",
              "50                    Polynomial Threshold                    None\n",
              "51                          Group Features                   False\n",
              "52                       Feature Selection                    True\n",
              "53                Feature Selection Method                 classic\n",
              "54            Features Selection Threshold                     0.7\n",
              "55                     Feature Interaction                   False\n",
              "56                           Feature Ratio                   False\n",
              "57                   Interaction Threshold                    None\n",
              "58                           Fix Imbalance                   False\n",
              "59                    Fix Imbalance Method                   SMOTE"
            ]
          },
          "metadata": {}
        }
      ]
    },
    {
      "cell_type": "code",
      "metadata": {
        "id": "pdPeT42SkDuv",
        "colab": {
          "base_uri": "https://localhost:8080/",
          "height": 452,
          "referenced_widgets": [
            "f0a4806f3d774031ae922d16fecb5e70",
            "fd333444889b461aa9acc710c3367178",
            "2e2541c6f7b844b0b2269b26b718f96a"
          ]
        },
        "outputId": "4bbd1999-83e9-4f7c-bbd6-e891c3c409bf"
      },
      "source": [
        "# visualizando o melhor classificador pela métrica ACCURACY (acurácia)\n",
        "best_model = compare_models(sort='Accuracy')"
      ],
      "execution_count": 17,
      "outputs": [
        {
          "output_type": "display_data",
          "data": {
            "text/html": [
              "<div>\n",
              "<style scoped>\n",
              "    .dataframe tbody tr th:only-of-type {\n",
              "        vertical-align: middle;\n",
              "    }\n",
              "\n",
              "    .dataframe tbody tr th {\n",
              "        vertical-align: top;\n",
              "    }\n",
              "\n",
              "    .dataframe thead th {\n",
              "        text-align: right;\n",
              "    }\n",
              "</style>\n",
              "<table border=\"1\" class=\"dataframe\">\n",
              "  <thead>\n",
              "    <tr style=\"text-align: right;\">\n",
              "      <th></th>\n",
              "      <th>Model</th>\n",
              "      <th>Accuracy</th>\n",
              "      <th>AUC</th>\n",
              "      <th>Recall</th>\n",
              "      <th>Prec.</th>\n",
              "      <th>F1</th>\n",
              "      <th>Kappa</th>\n",
              "      <th>MCC</th>\n",
              "      <th>TT (Sec)</th>\n",
              "    </tr>\n",
              "  </thead>\n",
              "  <tbody>\n",
              "    <tr>\n",
              "      <th>rf</th>\n",
              "      <td>Random Forest Classifier</td>\n",
              "      <td>0.9333</td>\n",
              "      <td>0.9556</td>\n",
              "      <td>0.9667</td>\n",
              "      <td>0.9429</td>\n",
              "      <td>0.9510</td>\n",
              "      <td>0.8448</td>\n",
              "      <td>0.8605</td>\n",
              "      <td>0.542</td>\n",
              "    </tr>\n",
              "    <tr>\n",
              "      <th>lr</th>\n",
              "      <td>Logistic Regression</td>\n",
              "      <td>0.9111</td>\n",
              "      <td>0.9667</td>\n",
              "      <td>0.9667</td>\n",
              "      <td>0.9095</td>\n",
              "      <td>0.9359</td>\n",
              "      <td>0.7909</td>\n",
              "      <td>0.8024</td>\n",
              "      <td>0.544</td>\n",
              "    </tr>\n",
              "    <tr>\n",
              "      <th>gbc</th>\n",
              "      <td>Gradient Boosting Classifier</td>\n",
              "      <td>0.8889</td>\n",
              "      <td>0.9222</td>\n",
              "      <td>0.8667</td>\n",
              "      <td>0.9667</td>\n",
              "      <td>0.9121</td>\n",
              "      <td>0.7615</td>\n",
              "      <td>0.7743</td>\n",
              "      <td>0.064</td>\n",
              "    </tr>\n",
              "    <tr>\n",
              "      <th>svm</th>\n",
              "      <td>SVM - Linear Kernel</td>\n",
              "      <td>0.8667</td>\n",
              "      <td>0.0000</td>\n",
              "      <td>0.9000</td>\n",
              "      <td>0.9167</td>\n",
              "      <td>0.8981</td>\n",
              "      <td>0.6943</td>\n",
              "      <td>0.7265</td>\n",
              "      <td>0.014</td>\n",
              "    </tr>\n",
              "    <tr>\n",
              "      <th>et</th>\n",
              "      <td>Extra Trees Classifier</td>\n",
              "      <td>0.8667</td>\n",
              "      <td>0.9111</td>\n",
              "      <td>0.9333</td>\n",
              "      <td>0.8881</td>\n",
              "      <td>0.9045</td>\n",
              "      <td>0.6793</td>\n",
              "      <td>0.7093</td>\n",
              "      <td>0.480</td>\n",
              "    </tr>\n",
              "    <tr>\n",
              "      <th>knn</th>\n",
              "      <td>K Neighbors Classifier</td>\n",
              "      <td>0.8444</td>\n",
              "      <td>0.9389</td>\n",
              "      <td>0.9667</td>\n",
              "      <td>0.8310</td>\n",
              "      <td>0.8919</td>\n",
              "      <td>0.6164</td>\n",
              "      <td>0.6536</td>\n",
              "      <td>0.140</td>\n",
              "    </tr>\n",
              "    <tr>\n",
              "      <th>dt</th>\n",
              "      <td>Decision Tree Classifier</td>\n",
              "      <td>0.8444</td>\n",
              "      <td>0.8500</td>\n",
              "      <td>0.8333</td>\n",
              "      <td>0.9381</td>\n",
              "      <td>0.8749</td>\n",
              "      <td>0.6674</td>\n",
              "      <td>0.6939</td>\n",
              "      <td>0.018</td>\n",
              "    </tr>\n",
              "    <tr>\n",
              "      <th>ridge</th>\n",
              "      <td>Ridge Classifier</td>\n",
              "      <td>0.8444</td>\n",
              "      <td>0.0000</td>\n",
              "      <td>0.9333</td>\n",
              "      <td>0.8667</td>\n",
              "      <td>0.8913</td>\n",
              "      <td>0.6138</td>\n",
              "      <td>0.6581</td>\n",
              "      <td>0.014</td>\n",
              "    </tr>\n",
              "    <tr>\n",
              "      <th>ada</th>\n",
              "      <td>Ada Boost Classifier</td>\n",
              "      <td>0.8444</td>\n",
              "      <td>0.9500</td>\n",
              "      <td>0.8667</td>\n",
              "      <td>0.9095</td>\n",
              "      <td>0.8777</td>\n",
              "      <td>0.6590</td>\n",
              "      <td>0.6870</td>\n",
              "      <td>0.090</td>\n",
              "    </tr>\n",
              "    <tr>\n",
              "      <th>lda</th>\n",
              "      <td>Linear Discriminant Analysis</td>\n",
              "      <td>0.8222</td>\n",
              "      <td>0.8556</td>\n",
              "      <td>0.9333</td>\n",
              "      <td>0.8381</td>\n",
              "      <td>0.8760</td>\n",
              "      <td>0.5593</td>\n",
              "      <td>0.6093</td>\n",
              "      <td>0.014</td>\n",
              "    </tr>\n",
              "    <tr>\n",
              "      <th>lightgbm</th>\n",
              "      <td>Light Gradient Boosting Machine</td>\n",
              "      <td>0.6667</td>\n",
              "      <td>0.5000</td>\n",
              "      <td>1.0000</td>\n",
              "      <td>0.6667</td>\n",
              "      <td>0.8000</td>\n",
              "      <td>0.0000</td>\n",
              "      <td>0.0000</td>\n",
              "      <td>0.086</td>\n",
              "    </tr>\n",
              "    <tr>\n",
              "      <th>nb</th>\n",
              "      <td>Naive Bayes</td>\n",
              "      <td>0.5556</td>\n",
              "      <td>0.6722</td>\n",
              "      <td>0.5667</td>\n",
              "      <td>0.7033</td>\n",
              "      <td>0.6180</td>\n",
              "      <td>0.0978</td>\n",
              "      <td>0.1000</td>\n",
              "      <td>0.018</td>\n",
              "    </tr>\n",
              "    <tr>\n",
              "      <th>qda</th>\n",
              "      <td>Quadratic Discriminant Analysis</td>\n",
              "      <td>0.5556</td>\n",
              "      <td>0.5500</td>\n",
              "      <td>0.5667</td>\n",
              "      <td>0.7633</td>\n",
              "      <td>0.5917</td>\n",
              "      <td>0.0829</td>\n",
              "      <td>0.1132</td>\n",
              "      <td>0.018</td>\n",
              "    </tr>\n",
              "  </tbody>\n",
              "</table>\n",
              "</div>"
            ],
            "text/plain": [
              "                                    Model  Accuracy     AUC  Recall   Prec.  \\\n",
              "rf               Random Forest Classifier    0.9333  0.9556  0.9667  0.9429   \n",
              "lr                    Logistic Regression    0.9111  0.9667  0.9667  0.9095   \n",
              "gbc          Gradient Boosting Classifier    0.8889  0.9222  0.8667  0.9667   \n",
              "svm                   SVM - Linear Kernel    0.8667  0.0000  0.9000  0.9167   \n",
              "et                 Extra Trees Classifier    0.8667  0.9111  0.9333  0.8881   \n",
              "knn                K Neighbors Classifier    0.8444  0.9389  0.9667  0.8310   \n",
              "dt               Decision Tree Classifier    0.8444  0.8500  0.8333  0.9381   \n",
              "ridge                    Ridge Classifier    0.8444  0.0000  0.9333  0.8667   \n",
              "ada                  Ada Boost Classifier    0.8444  0.9500  0.8667  0.9095   \n",
              "lda          Linear Discriminant Analysis    0.8222  0.8556  0.9333  0.8381   \n",
              "lightgbm  Light Gradient Boosting Machine    0.6667  0.5000  1.0000  0.6667   \n",
              "nb                            Naive Bayes    0.5556  0.6722  0.5667  0.7033   \n",
              "qda       Quadratic Discriminant Analysis    0.5556  0.5500  0.5667  0.7633   \n",
              "\n",
              "              F1   Kappa     MCC  TT (Sec)  \n",
              "rf        0.9510  0.8448  0.8605     0.542  \n",
              "lr        0.9359  0.7909  0.8024     0.544  \n",
              "gbc       0.9121  0.7615  0.7743     0.064  \n",
              "svm       0.8981  0.6943  0.7265     0.014  \n",
              "et        0.9045  0.6793  0.7093     0.480  \n",
              "knn       0.8919  0.6164  0.6536     0.140  \n",
              "dt        0.8749  0.6674  0.6939     0.018  \n",
              "ridge     0.8913  0.6138  0.6581     0.014  \n",
              "ada       0.8777  0.6590  0.6870     0.090  \n",
              "lda       0.8760  0.5593  0.6093     0.014  \n",
              "lightgbm  0.8000  0.0000  0.0000     0.086  \n",
              "nb        0.6180  0.0978  0.1000     0.018  \n",
              "qda       0.5917  0.0829  0.1132     0.018  "
            ]
          },
          "metadata": {}
        }
      ]
    },
    {
      "cell_type": "code",
      "metadata": {
        "colab": {
          "base_uri": "https://localhost:8080/"
        },
        "id": "f4XDgPobu0ge",
        "outputId": "ab7191b3-e746-434d-a1ba-8581943f6ccb"
      },
      "source": [
        "# o classificar melhor ranqueado\n",
        "best_model"
      ],
      "execution_count": 18,
      "outputs": [
        {
          "output_type": "execute_result",
          "data": {
            "text/plain": [
              "RandomForestClassifier(bootstrap=True, ccp_alpha=0.0, class_weight=None,\n",
              "                       criterion='gini', max_depth=None, max_features='auto',\n",
              "                       max_leaf_nodes=None, max_samples=None,\n",
              "                       min_impurity_decrease=0.0, min_impurity_split=None,\n",
              "                       min_samples_leaf=1, min_samples_split=2,\n",
              "                       min_weight_fraction_leaf=0.0, n_estimators=100,\n",
              "                       n_jobs=-1, oob_score=False, random_state=1016, verbose=0,\n",
              "                       warm_start=False)"
            ]
          },
          "metadata": {},
          "execution_count": 18
        }
      ]
    },
    {
      "cell_type": "code",
      "metadata": {
        "colab": {
          "base_uri": "https://localhost:8080/",
          "height": 266,
          "referenced_widgets": [
            "02804a10206f407caad9fef2110bc430",
            "428fb0d416f24e68b07f6a5d8b125d45",
            "25acd99dabb748c7a2fa3d2472e20008"
          ]
        },
        "id": "BdIh7MpfvPys",
        "outputId": "8dedf28a-2ce8-45b6-b133-f2ce12cc45ae"
      },
      "source": [
        "# instanciando o classificador com melhor performance\n",
        "best_classifier = create_model(best_model, fold=5)"
      ],
      "execution_count": 20,
      "outputs": [
        {
          "output_type": "display_data",
          "data": {
            "text/html": [
              "<div>\n",
              "<style scoped>\n",
              "    .dataframe tbody tr th:only-of-type {\n",
              "        vertical-align: middle;\n",
              "    }\n",
              "\n",
              "    .dataframe tbody tr th {\n",
              "        vertical-align: top;\n",
              "    }\n",
              "\n",
              "    .dataframe thead th {\n",
              "        text-align: right;\n",
              "    }\n",
              "</style>\n",
              "<table border=\"1\" class=\"dataframe\">\n",
              "  <thead>\n",
              "    <tr style=\"text-align: right;\">\n",
              "      <th></th>\n",
              "      <th>Accuracy</th>\n",
              "      <th>AUC</th>\n",
              "      <th>Recall</th>\n",
              "      <th>Prec.</th>\n",
              "      <th>F1</th>\n",
              "      <th>Kappa</th>\n",
              "      <th>MCC</th>\n",
              "    </tr>\n",
              "  </thead>\n",
              "  <tbody>\n",
              "    <tr>\n",
              "      <th>0</th>\n",
              "      <td>1.0000</td>\n",
              "      <td>1.0000</td>\n",
              "      <td>1.0000</td>\n",
              "      <td>1.0000</td>\n",
              "      <td>1.0000</td>\n",
              "      <td>1.0000</td>\n",
              "      <td>1.0000</td>\n",
              "    </tr>\n",
              "    <tr>\n",
              "      <th>1</th>\n",
              "      <td>1.0000</td>\n",
              "      <td>1.0000</td>\n",
              "      <td>1.0000</td>\n",
              "      <td>1.0000</td>\n",
              "      <td>1.0000</td>\n",
              "      <td>1.0000</td>\n",
              "      <td>1.0000</td>\n",
              "    </tr>\n",
              "    <tr>\n",
              "      <th>2</th>\n",
              "      <td>0.8889</td>\n",
              "      <td>0.8056</td>\n",
              "      <td>1.0000</td>\n",
              "      <td>0.8571</td>\n",
              "      <td>0.9231</td>\n",
              "      <td>0.7273</td>\n",
              "      <td>0.7559</td>\n",
              "    </tr>\n",
              "    <tr>\n",
              "      <th>3</th>\n",
              "      <td>0.8889</td>\n",
              "      <td>0.9722</td>\n",
              "      <td>0.8333</td>\n",
              "      <td>1.0000</td>\n",
              "      <td>0.9091</td>\n",
              "      <td>0.7692</td>\n",
              "      <td>0.7906</td>\n",
              "    </tr>\n",
              "    <tr>\n",
              "      <th>4</th>\n",
              "      <td>0.8889</td>\n",
              "      <td>1.0000</td>\n",
              "      <td>1.0000</td>\n",
              "      <td>0.8571</td>\n",
              "      <td>0.9231</td>\n",
              "      <td>0.7273</td>\n",
              "      <td>0.7559</td>\n",
              "    </tr>\n",
              "    <tr>\n",
              "      <th>Mean</th>\n",
              "      <td>0.9333</td>\n",
              "      <td>0.9556</td>\n",
              "      <td>0.9667</td>\n",
              "      <td>0.9429</td>\n",
              "      <td>0.9510</td>\n",
              "      <td>0.8448</td>\n",
              "      <td>0.8605</td>\n",
              "    </tr>\n",
              "    <tr>\n",
              "      <th>SD</th>\n",
              "      <td>0.0544</td>\n",
              "      <td>0.0758</td>\n",
              "      <td>0.0667</td>\n",
              "      <td>0.0700</td>\n",
              "      <td>0.0403</td>\n",
              "      <td>0.1277</td>\n",
              "      <td>0.1146</td>\n",
              "    </tr>\n",
              "  </tbody>\n",
              "</table>\n",
              "</div>"
            ],
            "text/plain": [
              "      Accuracy     AUC  Recall   Prec.      F1   Kappa     MCC\n",
              "0       1.0000  1.0000  1.0000  1.0000  1.0000  1.0000  1.0000\n",
              "1       1.0000  1.0000  1.0000  1.0000  1.0000  1.0000  1.0000\n",
              "2       0.8889  0.8056  1.0000  0.8571  0.9231  0.7273  0.7559\n",
              "3       0.8889  0.9722  0.8333  1.0000  0.9091  0.7692  0.7906\n",
              "4       0.8889  1.0000  1.0000  0.8571  0.9231  0.7273  0.7559\n",
              "Mean    0.9333  0.9556  0.9667  0.9429  0.9510  0.8448  0.8605\n",
              "SD      0.0544  0.0758  0.0667  0.0700  0.0403  0.1277  0.1146"
            ]
          },
          "metadata": {}
        }
      ]
    },
    {
      "cell_type": "code",
      "metadata": {
        "id": "yS8pyAPXrxx2",
        "colab": {
          "base_uri": "https://localhost:8080/"
        },
        "outputId": "411a0f30-a3c1-425b-d408-d0764474ddc4"
      },
      "source": [
        "# visualizando os parâmetros do modelo\n",
        "best_classifier"
      ],
      "execution_count": 21,
      "outputs": [
        {
          "output_type": "execute_result",
          "data": {
            "text/plain": [
              "RandomForestClassifier(bootstrap=True, ccp_alpha=0.0, class_weight=None,\n",
              "                       criterion='gini', max_depth=None, max_features='auto',\n",
              "                       max_leaf_nodes=None, max_samples=None,\n",
              "                       min_impurity_decrease=0.0, min_impurity_split=None,\n",
              "                       min_samples_leaf=1, min_samples_split=2,\n",
              "                       min_weight_fraction_leaf=0.0, n_estimators=100,\n",
              "                       n_jobs=-1, oob_score=False, random_state=1016, verbose=0,\n",
              "                       warm_start=False)"
            ]
          },
          "metadata": {},
          "execution_count": 21
        }
      ]
    },
    {
      "cell_type": "code",
      "metadata": {
        "id": "HckMReOIkDpz",
        "colab": {
          "base_uri": "https://localhost:8080/",
          "height": 266,
          "referenced_widgets": [
            "77fa73c237b64e60a3073e79805eb430",
            "b71eaab37ade4e4cb47e7f1aca3c00df",
            "b0ef3608dde445c5852df8ef38e32d07"
          ]
        },
        "outputId": "6f56479f-4896-489a-f2bd-c9be7394c86e"
      },
      "source": [
        "# \"tunando\" o classificador\n",
        "tuned_classifier = tune_model(best_classifier, fold=5)"
      ],
      "execution_count": 22,
      "outputs": [
        {
          "output_type": "display_data",
          "data": {
            "text/html": [
              "<div>\n",
              "<style scoped>\n",
              "    .dataframe tbody tr th:only-of-type {\n",
              "        vertical-align: middle;\n",
              "    }\n",
              "\n",
              "    .dataframe tbody tr th {\n",
              "        vertical-align: top;\n",
              "    }\n",
              "\n",
              "    .dataframe thead th {\n",
              "        text-align: right;\n",
              "    }\n",
              "</style>\n",
              "<table border=\"1\" class=\"dataframe\">\n",
              "  <thead>\n",
              "    <tr style=\"text-align: right;\">\n",
              "      <th></th>\n",
              "      <th>Accuracy</th>\n",
              "      <th>AUC</th>\n",
              "      <th>Recall</th>\n",
              "      <th>Prec.</th>\n",
              "      <th>F1</th>\n",
              "      <th>Kappa</th>\n",
              "      <th>MCC</th>\n",
              "    </tr>\n",
              "  </thead>\n",
              "  <tbody>\n",
              "    <tr>\n",
              "      <th>0</th>\n",
              "      <td>1.0000</td>\n",
              "      <td>1.0000</td>\n",
              "      <td>1.0000</td>\n",
              "      <td>1.00</td>\n",
              "      <td>1.0000</td>\n",
              "      <td>1.0000</td>\n",
              "      <td>1.0000</td>\n",
              "    </tr>\n",
              "    <tr>\n",
              "      <th>1</th>\n",
              "      <td>1.0000</td>\n",
              "      <td>1.0000</td>\n",
              "      <td>1.0000</td>\n",
              "      <td>1.00</td>\n",
              "      <td>1.0000</td>\n",
              "      <td>1.0000</td>\n",
              "      <td>1.0000</td>\n",
              "    </tr>\n",
              "    <tr>\n",
              "      <th>2</th>\n",
              "      <td>0.7778</td>\n",
              "      <td>0.7778</td>\n",
              "      <td>1.0000</td>\n",
              "      <td>0.75</td>\n",
              "      <td>0.8571</td>\n",
              "      <td>0.4000</td>\n",
              "      <td>0.5000</td>\n",
              "    </tr>\n",
              "    <tr>\n",
              "      <th>3</th>\n",
              "      <td>0.8889</td>\n",
              "      <td>1.0000</td>\n",
              "      <td>0.8333</td>\n",
              "      <td>1.00</td>\n",
              "      <td>0.9091</td>\n",
              "      <td>0.7692</td>\n",
              "      <td>0.7906</td>\n",
              "    </tr>\n",
              "    <tr>\n",
              "      <th>4</th>\n",
              "      <td>1.0000</td>\n",
              "      <td>1.0000</td>\n",
              "      <td>1.0000</td>\n",
              "      <td>1.00</td>\n",
              "      <td>1.0000</td>\n",
              "      <td>1.0000</td>\n",
              "      <td>1.0000</td>\n",
              "    </tr>\n",
              "    <tr>\n",
              "      <th>Mean</th>\n",
              "      <td>0.9333</td>\n",
              "      <td>0.9556</td>\n",
              "      <td>0.9667</td>\n",
              "      <td>0.95</td>\n",
              "      <td>0.9532</td>\n",
              "      <td>0.8338</td>\n",
              "      <td>0.8581</td>\n",
              "    </tr>\n",
              "    <tr>\n",
              "      <th>SD</th>\n",
              "      <td>0.0889</td>\n",
              "      <td>0.0889</td>\n",
              "      <td>0.0667</td>\n",
              "      <td>0.10</td>\n",
              "      <td>0.0596</td>\n",
              "      <td>0.2346</td>\n",
              "      <td>0.1966</td>\n",
              "    </tr>\n",
              "  </tbody>\n",
              "</table>\n",
              "</div>"
            ],
            "text/plain": [
              "      Accuracy     AUC  Recall  Prec.      F1   Kappa     MCC\n",
              "0       1.0000  1.0000  1.0000   1.00  1.0000  1.0000  1.0000\n",
              "1       1.0000  1.0000  1.0000   1.00  1.0000  1.0000  1.0000\n",
              "2       0.7778  0.7778  1.0000   0.75  0.8571  0.4000  0.5000\n",
              "3       0.8889  1.0000  0.8333   1.00  0.9091  0.7692  0.7906\n",
              "4       1.0000  1.0000  1.0000   1.00  1.0000  1.0000  1.0000\n",
              "Mean    0.9333  0.9556  0.9667   0.95  0.9532  0.8338  0.8581\n",
              "SD      0.0889  0.0889  0.0667   0.10  0.0596  0.2346  0.1966"
            ]
          },
          "metadata": {}
        }
      ]
    },
    {
      "cell_type": "code",
      "metadata": {
        "id": "00qWgBsekDnf"
      },
      "source": [
        "# realizando as predições com o classificador \"tunado\"\n",
        "predictions = predict_model(tuned_classifier, data=X_test)"
      ],
      "execution_count": 23,
      "outputs": []
    },
    {
      "cell_type": "code",
      "metadata": {
        "id": "Fve9sV34kDl9",
        "colab": {
          "base_uri": "https://localhost:8080/",
          "height": 359
        },
        "outputId": "4bd30382-7cf1-4aca-eeea-12b5fc3ea196"
      },
      "source": [
        "# visualizando os valores reais VS as predições realizadas pelo modelo \"tunado\"\n",
        "predictions[['diagnosis_result', 'Label']].head(10)     # as 10 primeiras predições"
      ],
      "execution_count": 24,
      "outputs": [
        {
          "output_type": "execute_result",
          "data": {
            "text/html": [
              "<div>\n",
              "<style scoped>\n",
              "    .dataframe tbody tr th:only-of-type {\n",
              "        vertical-align: middle;\n",
              "    }\n",
              "\n",
              "    .dataframe tbody tr th {\n",
              "        vertical-align: top;\n",
              "    }\n",
              "\n",
              "    .dataframe thead th {\n",
              "        text-align: right;\n",
              "    }\n",
              "</style>\n",
              "<table border=\"1\" class=\"dataframe\">\n",
              "  <thead>\n",
              "    <tr style=\"text-align: right;\">\n",
              "      <th></th>\n",
              "      <th>diagnosis_result</th>\n",
              "      <th>Label</th>\n",
              "    </tr>\n",
              "  </thead>\n",
              "  <tbody>\n",
              "    <tr>\n",
              "      <th>8</th>\n",
              "      <td>maligno</td>\n",
              "      <td>maligno</td>\n",
              "    </tr>\n",
              "    <tr>\n",
              "      <th>70</th>\n",
              "      <td>maligno</td>\n",
              "      <td>maligno</td>\n",
              "    </tr>\n",
              "    <tr>\n",
              "      <th>82</th>\n",
              "      <td>maligno</td>\n",
              "      <td>maligno</td>\n",
              "    </tr>\n",
              "    <tr>\n",
              "      <th>28</th>\n",
              "      <td>maligno</td>\n",
              "      <td>maligno</td>\n",
              "    </tr>\n",
              "    <tr>\n",
              "      <th>63</th>\n",
              "      <td>benigno</td>\n",
              "      <td>benigno</td>\n",
              "    </tr>\n",
              "    <tr>\n",
              "      <th>0</th>\n",
              "      <td>maligno</td>\n",
              "      <td>maligno</td>\n",
              "    </tr>\n",
              "    <tr>\n",
              "      <th>5</th>\n",
              "      <td>benigno</td>\n",
              "      <td>maligno</td>\n",
              "    </tr>\n",
              "    <tr>\n",
              "      <th>50</th>\n",
              "      <td>benigno</td>\n",
              "      <td>benigno</td>\n",
              "    </tr>\n",
              "    <tr>\n",
              "      <th>81</th>\n",
              "      <td>benigno</td>\n",
              "      <td>maligno</td>\n",
              "    </tr>\n",
              "    <tr>\n",
              "      <th>4</th>\n",
              "      <td>maligno</td>\n",
              "      <td>maligno</td>\n",
              "    </tr>\n",
              "  </tbody>\n",
              "</table>\n",
              "</div>"
            ],
            "text/plain": [
              "   diagnosis_result    Label\n",
              "8           maligno  maligno\n",
              "70          maligno  maligno\n",
              "82          maligno  maligno\n",
              "28          maligno  maligno\n",
              "63          benigno  benigno\n",
              "0           maligno  maligno\n",
              "5           benigno  maligno\n",
              "50          benigno  benigno\n",
              "81          benigno  maligno\n",
              "4           maligno  maligno"
            ]
          },
          "metadata": {},
          "execution_count": 24
        }
      ]
    },
    {
      "cell_type": "code",
      "metadata": {
        "id": "cWeBR2fakDje",
        "colab": {
          "base_uri": "https://localhost:8080/",
          "height": 729,
          "referenced_widgets": [
            "d3adf6873f304f84b35bcd6b4f111827",
            "8b748a9d91f34b0f850dd79e2663c195",
            "7a233e4d9a674f4eb3f908f433bf6712",
            "5bf484f7201c400b93dd7c040b7e3baf",
            "ac91961dad564fc98b946e232b9676f0",
            "ae45a072c9c940a38254f32a186eeb44",
            "b117f52fcc5b4d6fa3758def9da9a9f4",
            "5b70e4171e6a4476b938773f12009496",
            "9c4506f6903a42c69a54334936459e65",
            "a908f987f5654db8acb6e1ce3f819395"
          ]
        },
        "outputId": "02c5683c-7098-4c64-90b5-2a23e1e5c21c"
      },
      "source": [
        "# visualizando graficamente a performance do modelo\n",
        "evaluate_model(best_classifier);"
      ],
      "execution_count": 25,
      "outputs": [
        {
          "output_type": "display_data",
          "data": {
            "application/vnd.jupyter.widget-view+json": {
              "model_id": "d3adf6873f304f84b35bcd6b4f111827",
              "version_minor": 0,
              "version_major": 2
            },
            "text/plain": [
              "interactive(children=(ToggleButtons(description='Plot Type:', icons=('',), options=(('Hyperparameters', 'param…"
            ]
          },
          "metadata": {}
        }
      ]
    },
    {
      "cell_type": "code",
      "metadata": {
        "id": "JT_p9U79kDht",
        "colab": {
          "base_uri": "https://localhost:8080/",
          "height": 376,
          "referenced_widgets": [
            "4a60bc0dea074934bd579277c16d2520",
            "f7fd0a4fda8047c3a49fd1701697dc14",
            "e7a6acc8ad884d2b937ffe48cfdd55d3"
          ]
        },
        "outputId": "7776f70b-3ef5-434a-d63f-9268756e17a6"
      },
      "source": [
        "# visualizando o gráfico da curva ROC\n",
        "plot_model(tuned_classifier)"
      ],
      "execution_count": 26,
      "outputs": [
        {
          "output_type": "display_data",
          "data": {
            "image/png": "[encoded data removed]",
            "text/plain": [
              "<Figure size 576x396 with 1 Axes>"
            ]
          },
          "metadata": {}
        }
      ]
    },
    {
      "cell_type": "code",
      "metadata": {
        "id": "uKXc-umdkDfK",
        "colab": {
          "base_uri": "https://localhost:8080/",
          "height": 376,
          "referenced_widgets": [
            "8064bf12f2bc4d66b1909327c300071f",
            "5eee0bb9974846e9bcda96ed55915816",
            "048b3c5e249540eea6d05df3cebbce85"
          ]
        },
        "outputId": "b9119bf3-496f-4d88-ded9-dd90cfa35282"
      },
      "source": [
        "# visualizando o gráfico da curva de precisão-recall\n",
        "plot_model(tuned_classifier, plot='pr')"
      ],
      "execution_count": 27,
      "outputs": [
        {
          "output_type": "display_data",
          "data": {
            "image/png": "[encoded data removed]",
            "text/plain": [
              "<Figure size 576x396 with 1 Axes>"
            ]
          },
          "metadata": {}
        }
      ]
    },
    {
      "cell_type": "code",
      "metadata": {
        "id": "EF-VVdxVkDc5",
        "colab": {
          "base_uri": "https://localhost:8080/",
          "height": 478,
          "referenced_widgets": [
            "1741a8e5535843c2883615e7a2bd4574",
            "9fb708bd6ee34c20b6e8e8f2083a8251",
            "2071dd2aeddf44bab3cdf28705a60a9a"
          ]
        },
        "outputId": "336ad927-9c44-4ade-83fc-1d4c9a03d4d4"
      },
      "source": [
        "# visualizando os recursos de maior importância para o modelo\n",
        "plot_model(tuned_classifier, plot='feature')"
      ],
      "execution_count": 29,
      "outputs": [
        {
          "output_type": "display_data",
          "data": {
            "image/png": "[encoded data removed]",
            "text/plain": [
              "<Figure size 800x500 with 1 Axes>"
            ]
          },
          "metadata": {}
        }
      ]
    },
    {
      "cell_type": "code",
      "metadata": {
        "id": "nVKEK1i5kDZi",
        "colab": {
          "base_uri": "https://localhost:8080/",
          "height": 401,
          "referenced_widgets": [
            "1d7e4aef7e3c46bca56ac32c79ed6294",
            "2088ad286bd744efb4951583d3864e5b",
            "d787144e52e84efcaacb1e9d79867e76"
          ]
        },
        "outputId": "d00478fe-4f05-4de4-9ae8-df26bee20d20"
      },
      "source": [
        "# visualizando o relatório de classificação\n",
        "plot_model(tuned_classifier, plot='class_report')"
      ],
      "execution_count": 30,
      "outputs": [
        {
          "output_type": "display_data",
          "data": {
            "image/png": "[encoded data removed]",
            "text/plain": [
              "<Figure size 576x396 with 2 Axes>"
            ]
          },
          "metadata": {}
        }
      ]
    },
    {
      "cell_type": "code",
      "metadata": {
        "id": "N_zd07l0kDUi",
        "colab": {
          "base_uri": "https://localhost:8080/",
          "height": 401,
          "referenced_widgets": [
            "61670fcd9d784b749503e85bfd23f32f",
            "143dad2d5d894013a53ccb788741b58c",
            "7fb69684e40a4972b1f604f741a51619"
          ]
        },
        "outputId": "494b16aa-0f12-467b-a245-1e7a14f3591c"
      },
      "source": [
        "# visualizando a matriz de confusão\n",
        "plot_model(tuned_classifier, plot='confusion_matrix')"
      ],
      "execution_count": 31,
      "outputs": [
        {
          "output_type": "display_data",
          "data": {
            "image/png": "[encoded data removed]",
            "text/plain": [
              "<Figure size 576x396 with 1 Axes>"
            ]
          },
          "metadata": {}
        }
      ]
    },
    {
      "cell_type": "code",
      "metadata": {
        "id": "sBQyNQQYkDRi",
        "colab": {
          "base_uri": "https://localhost:8080/",
          "height": 80
        },
        "outputId": "f24c1daf-6b84-4aab-a60c-2a95111520f3"
      },
      "source": [
        "# visualizando as métricas do modelo \"tunado\"\n",
        "predict_model(tuned_classifier);"
      ],
      "execution_count": 32,
      "outputs": [
        {
          "output_type": "display_data",
          "data": {
            "text/html": [
              "<div>\n",
              "<style scoped>\n",
              "    .dataframe tbody tr th:only-of-type {\n",
              "        vertical-align: middle;\n",
              "    }\n",
              "\n",
              "    .dataframe tbody tr th {\n",
              "        vertical-align: top;\n",
              "    }\n",
              "\n",
              "    .dataframe thead th {\n",
              "        text-align: right;\n",
              "    }\n",
              "</style>\n",
              "<table border=\"1\" class=\"dataframe\">\n",
              "  <thead>\n",
              "    <tr style=\"text-align: right;\">\n",
              "      <th></th>\n",
              "      <th>Model</th>\n",
              "      <th>Accuracy</th>\n",
              "      <th>AUC</th>\n",
              "      <th>Recall</th>\n",
              "      <th>Prec.</th>\n",
              "      <th>F1</th>\n",
              "      <th>Kappa</th>\n",
              "      <th>MCC</th>\n",
              "    </tr>\n",
              "  </thead>\n",
              "  <tbody>\n",
              "    <tr>\n",
              "      <th>0</th>\n",
              "      <td>Random Forest Classifier</td>\n",
              "      <td>0.7727</td>\n",
              "      <td>0.8667</td>\n",
              "      <td>1.0</td>\n",
              "      <td>0.6667</td>\n",
              "      <td>0.8</td>\n",
              "      <td>0.56</td>\n",
              "      <td>0.6236</td>\n",
              "    </tr>\n",
              "  </tbody>\n",
              "</table>\n",
              "</div>"
            ],
            "text/plain": [
              "                      Model  Accuracy     AUC  ...   F1  Kappa     MCC\n",
              "0  Random Forest Classifier    0.7727  0.8667  ...  0.8   0.56  0.6236\n",
              "\n",
              "[1 rows x 8 columns]"
            ]
          },
          "metadata": {}
        }
      ]
    },
    {
      "cell_type": "code",
      "metadata": {
        "id": "rX2CtY-9kDPX"
      },
      "source": [
        "# finalizando e instanciando o modelo \"tunado\"\n",
        "best_tunedModel = finalize_model(tuned_classifier)"
      ],
      "execution_count": 33,
      "outputs": []
    },
    {
      "cell_type": "code",
      "metadata": {
        "id": "Yftzzs7TkDMr",
        "colab": {
          "base_uri": "https://localhost:8080/"
        },
        "outputId": "27bee88e-5cee-48da-8f69-5e1157812758"
      },
      "source": [
        "# visualizando os parâmetros do modelo \"tunado\"\n",
        "best_tunedModel"
      ],
      "execution_count": 34,
      "outputs": [
        {
          "output_type": "execute_result",
          "data": {
            "text/plain": [
              "RandomForestClassifier(bootstrap=False, ccp_alpha=0.0, class_weight={},\n",
              "                       criterion='entropy', max_depth=11, max_features='log2',\n",
              "                       max_leaf_nodes=None, max_samples=None,\n",
              "                       min_impurity_decrease=0.002, min_impurity_split=None,\n",
              "                       min_samples_leaf=2, min_samples_split=5,\n",
              "                       min_weight_fraction_leaf=0.0, n_estimators=300,\n",
              "                       n_jobs=-1, oob_score=False, random_state=1016, verbose=0,\n",
              "                       warm_start=False)"
            ]
          },
          "metadata": {},
          "execution_count": 34
        }
      ]
    },
    {
      "cell_type": "code",
      "metadata": {
        "id": "1XZvrrSwkDKa",
        "colab": {
          "base_uri": "https://localhost:8080/",
          "height": 80
        },
        "outputId": "4932e273-45c1-43f2-dee4-8f5a3d1bb36f"
      },
      "source": [
        "# visualizando as métricas de desempenho do modelo\n",
        "predict_model(best_tunedModel);"
      ],
      "execution_count": 35,
      "outputs": [
        {
          "output_type": "display_data",
          "data": {
            "text/html": [
              "<div>\n",
              "<style scoped>\n",
              "    .dataframe tbody tr th:only-of-type {\n",
              "        vertical-align: middle;\n",
              "    }\n",
              "\n",
              "    .dataframe tbody tr th {\n",
              "        vertical-align: top;\n",
              "    }\n",
              "\n",
              "    .dataframe thead th {\n",
              "        text-align: right;\n",
              "    }\n",
              "</style>\n",
              "<table border=\"1\" class=\"dataframe\">\n",
              "  <thead>\n",
              "    <tr style=\"text-align: right;\">\n",
              "      <th></th>\n",
              "      <th>Model</th>\n",
              "      <th>Accuracy</th>\n",
              "      <th>AUC</th>\n",
              "      <th>Recall</th>\n",
              "      <th>Prec.</th>\n",
              "      <th>F1</th>\n",
              "      <th>Kappa</th>\n",
              "      <th>MCC</th>\n",
              "    </tr>\n",
              "  </thead>\n",
              "  <tbody>\n",
              "    <tr>\n",
              "      <th>0</th>\n",
              "      <td>Random Forest Classifier</td>\n",
              "      <td>0.9545</td>\n",
              "      <td>1.0</td>\n",
              "      <td>1.0</td>\n",
              "      <td>0.9091</td>\n",
              "      <td>0.9524</td>\n",
              "      <td>0.9091</td>\n",
              "      <td>0.9129</td>\n",
              "    </tr>\n",
              "  </tbody>\n",
              "</table>\n",
              "</div>"
            ],
            "text/plain": [
              "                      Model  Accuracy  AUC  ...      F1   Kappa     MCC\n",
              "0  Random Forest Classifier    0.9545  1.0  ...  0.9524  0.9091  0.9129\n",
              "\n",
              "[1 rows x 8 columns]"
            ]
          },
          "metadata": {}
        }
      ]
    },
    {
      "cell_type": "code",
      "metadata": {
        "id": "YdF8nX30kDHm",
        "colab": {
          "base_uri": "https://localhost:8080/",
          "height": 514
        },
        "outputId": "ee145a2a-8291-4e49-ab07-6ee91890fe48"
      },
      "source": [
        "# aplicando o modelo nos dados de \"y_ytrain\"\n",
        "unseen_predictions = predict_model(best_tunedModel, data=y_train)\n",
        "\n",
        "# visualizando os valores reais VS valores preditos\n",
        "unseen_predictions[['diagnosis_result', 'Label']].head(15)"
      ],
      "execution_count": 36,
      "outputs": [
        {
          "output_type": "execute_result",
          "data": {
            "text/html": [
              "<div>\n",
              "<style scoped>\n",
              "    .dataframe tbody tr th:only-of-type {\n",
              "        vertical-align: middle;\n",
              "    }\n",
              "\n",
              "    .dataframe tbody tr th {\n",
              "        vertical-align: top;\n",
              "    }\n",
              "\n",
              "    .dataframe thead th {\n",
              "        text-align: right;\n",
              "    }\n",
              "</style>\n",
              "<table border=\"1\" class=\"dataframe\">\n",
              "  <thead>\n",
              "    <tr style=\"text-align: right;\">\n",
              "      <th></th>\n",
              "      <th>diagnosis_result</th>\n",
              "      <th>Label</th>\n",
              "    </tr>\n",
              "  </thead>\n",
              "  <tbody>\n",
              "    <tr>\n",
              "      <th>21</th>\n",
              "      <td>benigno</td>\n",
              "      <td>benigno</td>\n",
              "    </tr>\n",
              "    <tr>\n",
              "      <th>90</th>\n",
              "      <td>benigno</td>\n",
              "      <td>benigno</td>\n",
              "    </tr>\n",
              "    <tr>\n",
              "      <th>33</th>\n",
              "      <td>maligno</td>\n",
              "      <td>maligno</td>\n",
              "    </tr>\n",
              "    <tr>\n",
              "      <th>69</th>\n",
              "      <td>benigno</td>\n",
              "      <td>benigno</td>\n",
              "    </tr>\n",
              "    <tr>\n",
              "      <th>84</th>\n",
              "      <td>benigno</td>\n",
              "      <td>benigno</td>\n",
              "    </tr>\n",
              "    <tr>\n",
              "      <th>87</th>\n",
              "      <td>maligno</td>\n",
              "      <td>maligno</td>\n",
              "    </tr>\n",
              "    <tr>\n",
              "      <th>95</th>\n",
              "      <td>maligno</td>\n",
              "      <td>maligno</td>\n",
              "    </tr>\n",
              "    <tr>\n",
              "      <th>97</th>\n",
              "      <td>benigno</td>\n",
              "      <td>benigno</td>\n",
              "    </tr>\n",
              "    <tr>\n",
              "      <th>62</th>\n",
              "      <td>maligno</td>\n",
              "      <td>maligno</td>\n",
              "    </tr>\n",
              "    <tr>\n",
              "      <th>12</th>\n",
              "      <td>benigno</td>\n",
              "      <td>benigno</td>\n",
              "    </tr>\n",
              "    <tr>\n",
              "      <th>20</th>\n",
              "      <td>benigno</td>\n",
              "      <td>maligno</td>\n",
              "    </tr>\n",
              "    <tr>\n",
              "      <th>89</th>\n",
              "      <td>benigno</td>\n",
              "      <td>maligno</td>\n",
              "    </tr>\n",
              "    <tr>\n",
              "      <th>37</th>\n",
              "      <td>benigno</td>\n",
              "      <td>benigno</td>\n",
              "    </tr>\n",
              "    <tr>\n",
              "      <th>59</th>\n",
              "      <td>benigno</td>\n",
              "      <td>benigno</td>\n",
              "    </tr>\n",
              "    <tr>\n",
              "      <th>1</th>\n",
              "      <td>benigno</td>\n",
              "      <td>benigno</td>\n",
              "    </tr>\n",
              "  </tbody>\n",
              "</table>\n",
              "</div>"
            ],
            "text/plain": [
              "   diagnosis_result    Label\n",
              "21          benigno  benigno\n",
              "90          benigno  benigno\n",
              "33          maligno  maligno\n",
              "69          benigno  benigno\n",
              "84          benigno  benigno\n",
              "87          maligno  maligno\n",
              "95          maligno  maligno\n",
              "97          benigno  benigno\n",
              "62          maligno  maligno\n",
              "12          benigno  benigno\n",
              "20          benigno  maligno\n",
              "89          benigno  maligno\n",
              "37          benigno  benigno\n",
              "59          benigno  benigno\n",
              "1           benigno  benigno"
            ]
          },
          "metadata": {},
          "execution_count": 36
        }
      ]
    },
    {
      "cell_type": "code",
      "metadata": {
        "id": "eczOqRY0kDFJ",
        "colab": {
          "base_uri": "https://localhost:8080/"
        },
        "outputId": "19af3ab8-2cd3-4230-e802-98551816010e"
      },
      "source": [
        "# importando a função para avaliação\n",
        "from pycaret.utils import check_metric\n",
        "\n",
        "# checando a performance do modelo, usando como métrica de referência acurácia\n",
        "check_metric(unseen_predictions.diagnosis_result, unseen_predictions.Label, 'Accuracy')"
      ],
      "execution_count": 37,
      "outputs": [
        {
          "output_type": "execute_result",
          "data": {
            "text/plain": [
              "0.9714"
            ]
          },
          "metadata": {},
          "execution_count": 37
        }
      ]
    },
    {
      "cell_type": "code",
      "metadata": {
        "id": "NhqgcMkrkDAq",
        "colab": {
          "base_uri": "https://localhost:8080/"
        },
        "outputId": "55f62fd6-c652-438c-c3b5-762d0457ecf2"
      },
      "source": [
        "# salvando o modelo\n",
        "save_model(best_tunedModel,'Final Classifier Model 07Nov2021')"
      ],
      "execution_count": 38,
      "outputs": [
        {
          "output_type": "stream",
          "name": "stdout",
          "text": [
            "Transformation Pipeline and Model Successfully Saved\n"
          ]
        },
        {
          "output_type": "execute_result",
          "data": {
            "text/plain": [
              "(Pipeline(memory=None,\n",
              "          steps=[('dtypes',\n",
              "                  DataTypes_Auto_infer(categorical_features=[],\n",
              "                                       display_types=False,\n",
              "                                       features_todrop=['id'], id_columns=[],\n",
              "                                       ml_usecase='classification',\n",
              "                                       numerical_features=[],\n",
              "                                       target='diagnosis_result',\n",
              "                                       time_features=[])),\n",
              "                 ('imputer',\n",
              "                  Simple_Imputer(categorical_strategy='not_available',\n",
              "                                 fill_value_categorical=None,\n",
              "                                 fill_value_numerical=Non...\n",
              "                  RandomForestClassifier(bootstrap=False, ccp_alpha=0.0,\n",
              "                                         class_weight={}, criterion='entropy',\n",
              "                                         max_depth=11, max_features='log2',\n",
              "                                         max_leaf_nodes=None, max_samples=None,\n",
              "                                         min_impurity_decrease=0.002,\n",
              "                                         min_impurity_split=None,\n",
              "                                         min_samples_leaf=2, min_samples_split=5,\n",
              "                                         min_weight_fraction_leaf=0.0,\n",
              "                                         n_estimators=300, n_jobs=-1,\n",
              "                                         oob_score=False, random_state=1016,\n",
              "                                         verbose=0, warm_start=False)]],\n",
              "          verbose=False), 'Final Classifier Model 07Nov2021.pkl')"
            ]
          },
          "metadata": {},
          "execution_count": 38
        }
      ]
    },
    {
      "cell_type": "code",
      "metadata": {
        "id": "e5IamZiIkC9C",
        "colab": {
          "base_uri": "https://localhost:8080/"
        },
        "outputId": "408dbbbc-24fb-41cc-a849-ccfe26967f85"
      },
      "source": [
        "# instanciando o modelo salvo na variável \"saved_final_RandFor\"\n",
        "saved_final_model = load_model('Final Classifier Model 07Nov2021')"
      ],
      "execution_count": 39,
      "outputs": [
        {
          "output_type": "stream",
          "name": "stdout",
          "text": [
            "Transformation Pipeline and Model Successfully Loaded\n"
          ]
        }
      ]
    },
    {
      "cell_type": "code",
      "metadata": {
        "id": "EgZlfNYekC6V"
      },
      "source": [
        "# realizando novas predições com modelo final salvo \n",
        "new_prediction = predict_model(saved_final_model, data=y_test)"
      ],
      "execution_count": 40,
      "outputs": []
    },
    {
      "cell_type": "code",
      "metadata": {
        "id": "IDSBZqlokC4h",
        "colab": {
          "base_uri": "https://localhost:8080/",
          "height": 359
        },
        "outputId": "83568bdd-5603-4200-cd48-755e737e39c1"
      },
      "source": [
        "# visualizando os valores reais VS valores preditos\n",
        "pd.DataFrame(new_prediction[['diagnosis_result', 'Label']].head(10))"
      ],
      "execution_count": 41,
      "outputs": [
        {
          "output_type": "execute_result",
          "data": {
            "text/html": [
              "<div>\n",
              "<style scoped>\n",
              "    .dataframe tbody tr th:only-of-type {\n",
              "        vertical-align: middle;\n",
              "    }\n",
              "\n",
              "    .dataframe tbody tr th {\n",
              "        vertical-align: top;\n",
              "    }\n",
              "\n",
              "    .dataframe thead th {\n",
              "        text-align: right;\n",
              "    }\n",
              "</style>\n",
              "<table border=\"1\" class=\"dataframe\">\n",
              "  <thead>\n",
              "    <tr style=\"text-align: right;\">\n",
              "      <th></th>\n",
              "      <th>diagnosis_result</th>\n",
              "      <th>Label</th>\n",
              "    </tr>\n",
              "  </thead>\n",
              "  <tbody>\n",
              "    <tr>\n",
              "      <th>8</th>\n",
              "      <td>maligno</td>\n",
              "      <td>maligno</td>\n",
              "    </tr>\n",
              "    <tr>\n",
              "      <th>70</th>\n",
              "      <td>maligno</td>\n",
              "      <td>maligno</td>\n",
              "    </tr>\n",
              "    <tr>\n",
              "      <th>82</th>\n",
              "      <td>maligno</td>\n",
              "      <td>maligno</td>\n",
              "    </tr>\n",
              "    <tr>\n",
              "      <th>28</th>\n",
              "      <td>maligno</td>\n",
              "      <td>maligno</td>\n",
              "    </tr>\n",
              "    <tr>\n",
              "      <th>63</th>\n",
              "      <td>benigno</td>\n",
              "      <td>benigno</td>\n",
              "    </tr>\n",
              "    <tr>\n",
              "      <th>0</th>\n",
              "      <td>maligno</td>\n",
              "      <td>maligno</td>\n",
              "    </tr>\n",
              "    <tr>\n",
              "      <th>5</th>\n",
              "      <td>benigno</td>\n",
              "      <td>maligno</td>\n",
              "    </tr>\n",
              "    <tr>\n",
              "      <th>50</th>\n",
              "      <td>benigno</td>\n",
              "      <td>benigno</td>\n",
              "    </tr>\n",
              "    <tr>\n",
              "      <th>81</th>\n",
              "      <td>benigno</td>\n",
              "      <td>maligno</td>\n",
              "    </tr>\n",
              "    <tr>\n",
              "      <th>4</th>\n",
              "      <td>maligno</td>\n",
              "      <td>maligno</td>\n",
              "    </tr>\n",
              "  </tbody>\n",
              "</table>\n",
              "</div>"
            ],
            "text/plain": [
              "   diagnosis_result    Label\n",
              "8           maligno  maligno\n",
              "70          maligno  maligno\n",
              "82          maligno  maligno\n",
              "28          maligno  maligno\n",
              "63          benigno  benigno\n",
              "0           maligno  maligno\n",
              "5           benigno  maligno\n",
              "50          benigno  benigno\n",
              "81          benigno  maligno\n",
              "4           maligno  maligno"
            ]
          },
          "metadata": {},
          "execution_count": 41
        }
      ]
    },
    {
      "cell_type": "code",
      "metadata": {
        "id": "76mqc0GtkC2A",
        "colab": {
          "base_uri": "https://localhost:8080/"
        },
        "outputId": "d7334b22-ec0c-4c69-a258-96f0deddaf80"
      },
      "source": [
        "# importando a função para avaliação\n",
        "from pycaret.utils import check_metric\n",
        "\n",
        "# visualizando a performance do modelo, usando como métrica acurácia\n",
        "check_metric(new_prediction.diagnosis_result, new_prediction.Label, 'Accuracy')"
      ],
      "execution_count": 42,
      "outputs": [
        {
          "output_type": "execute_result",
          "data": {
            "text/plain": [
              "0.8667"
            ]
          },
          "metadata": {},
          "execution_count": 42
        }
      ]
    },
    {
      "cell_type": "code",
      "metadata": {
        "id": "VNH0iHPDuq0q"
      },
      "source": [
        ""
      ],
      "execution_count": 41,
      "outputs": []
    },
    {
      "cell_type": "code",
      "metadata": {
        "id": "Lqdd8Wgpuqxt"
      },
      "source": [
        ""
      ],
      "execution_count": 41,
      "outputs": []
    },
    {
      "cell_type": "code",
      "metadata": {
        "id": "YGNb7OWwuqvR"
      },
      "source": [
        ""
      ],
      "execution_count": 41,
      "outputs": []
    }
  ]
}